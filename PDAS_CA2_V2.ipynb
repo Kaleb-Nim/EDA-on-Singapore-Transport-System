{
  "nbformat": 4,
  "nbformat_minor": 0,
  "metadata": {
    "colab": {
      "name": "PDAS_CA2_V2",
      "provenance": [],
      "toc_visible": true,
      "authorship_tag": "ABX9TyP9kpnsWe6j+tdtO4Q/eGOX",
      "include_colab_link": true
    },
    "kernelspec": {
      "name": "python3",
      "display_name": "Python 3"
    },
    "language_info": {
      "name": "python"
    }
  },
  "cells": [
    {
      "cell_type": "markdown",
      "metadata": {
        "id": "view-in-github",
        "colab_type": "text"
      },
      "source": [
        "<a href=\"https://colab.research.google.com/github/yuwotmate/EDA-on-Singapore-Transport-System/blob/main/PDAS_CA2_V2.ipynb\" target=\"_parent\"><img src=\"https://colab.research.google.com/assets/colab-badge.svg\" alt=\"Open In Colab\"/></a>"
      ]
    },
    {
      "cell_type": "markdown",
      "source": [
        "# **EDA on Singapore Transport System**\n",
        "\n",
        "Author- Kaleb Nim\n",
        "\n",
        "Completed on 14/2/2022"
      ],
      "metadata": {
        "id": "b_YtYgN5srwK"
      }
    },
    {
      "cell_type": "code",
      "execution_count": null,
      "metadata": {
        "id": "YYjKuYh80NQ0",
        "colab": {
          "base_uri": "https://localhost:8080/"
        },
        "outputId": "c9917348-545f-466c-8957-822c77246b6b"
      },
      "outputs": [
        {
          "output_type": "stream",
          "name": "stderr",
          "text": [
            "/usr/local/lib/python3.7/dist-packages/statsmodels/tools/_testing.py:19: FutureWarning: pandas.util.testing is deprecated. Use the functions in the public API at pandas.testing instead.\n",
            "  import pandas.util.testing as tm\n"
          ]
        }
      ],
      "source": [
        "#import libraries\n",
        "\n",
        "import pandas as pd\n",
        "import numpy as np\n",
        "import seaborn as sns\n",
        "import matplotlib.pyplot as plt\n",
        "import re\n",
        "import statsmodels.api as sm\n",
        "import matplotlib\n",
        "import matplotlib.font_manager\n",
        "matplotlib.rcParams['mathtext.fontset'] = 'custom' # set LaTeX fonts\n",
        "matplotlib.rcParams['mathtext.bf'] = 'Lato:bold'"
      ]
    },
    {
      "cell_type": "markdown",
      "source": [
        "Things to do, \n",
        "Find and merge dataset for Objective 1: Is Singapore's Public Transport addordable. \n",
        "\n",
        "Currently only have one dataset, might wat to look into bus related fares and do a comparism there, ( then maye can change objective )\n",
        "\n",
        "Find a dataset with many outliers and maybe can do a mini analysis on those specific outliers ( like how are they distributed, where do these outliers orginate from , is it from mostly one column? no narrow thinking ) \n",
        "\n",
        "EDA on the Datasets itself once all datasets found.\n",
        "\n",
        "From EDA we can look towards using one Statsmodel and at least one plotly graph for DAVI ( can look into datacamp project )\n",
        "\n",
        "3 Follow up questions for each objective, \n",
        "Find Dataset --> EDA + Data manupliate --> Plot graphs --> Get insights --> conclusion \n",
        "\n",
        "Powerpoint For PDAS\n",
        "Powerpoint For DAVI \n",
        "\n",
        "I think its better to write down insights as i go to save time?\n",
        "\n",
        "For Objective 2:\n"
      ],
      "metadata": {
        "id": "7Y6QikGd1aFN"
      }
    },
    {
      "cell_type": "markdown",
      "source": [
        "## Dataset 1: transport_node_train_202201\n",
        "\n"
      ],
      "metadata": {
        "id": "IrMrOdedmb4x"
      }
    },
    {
      "cell_type": "markdown",
      "source": [
        "### Load dataset"
      ],
      "metadata": {
        "id": "oQY06kO8weUD"
      }
    },
    {
      "cell_type": "code",
      "source": [
        "train_volume_dup = pd.read_csv('/content/transport_node_train_202201.csv')\n",
        "train_volume_dup.head()"
      ],
      "metadata": {
        "colab": {
          "base_uri": "https://localhost:8080/",
          "height": 206
        },
        "id": "a5n6_7zYwgvH",
        "outputId": "6bb746b5-350f-4b5c-91c5-25262902d4e6"
      },
      "execution_count": null,
      "outputs": [
        {
          "output_type": "execute_result",
          "data": {
            "text/html": [
              "\n",
              "  <div id=\"df-47ac2401-b20a-41c1-a8c2-426ae760a42f\">\n",
              "    <div class=\"colab-df-container\">\n",
              "      <div>\n",
              "<style scoped>\n",
              "    .dataframe tbody tr th:only-of-type {\n",
              "        vertical-align: middle;\n",
              "    }\n",
              "\n",
              "    .dataframe tbody tr th {\n",
              "        vertical-align: top;\n",
              "    }\n",
              "\n",
              "    .dataframe thead th {\n",
              "        text-align: right;\n",
              "    }\n",
              "</style>\n",
              "<table border=\"1\" class=\"dataframe\">\n",
              "  <thead>\n",
              "    <tr style=\"text-align: right;\">\n",
              "      <th></th>\n",
              "      <th>YEAR_MONTH</th>\n",
              "      <th>DAY_TYPE</th>\n",
              "      <th>TIME_PER_HOUR</th>\n",
              "      <th>PT_TYPE</th>\n",
              "      <th>PT_CODE</th>\n",
              "      <th>TOTAL_TAP_IN_VOLUME</th>\n",
              "      <th>TOTAL_TAP_OUT_VOLUME</th>\n",
              "    </tr>\n",
              "  </thead>\n",
              "  <tbody>\n",
              "    <tr>\n",
              "      <th>0</th>\n",
              "      <td>2022-01</td>\n",
              "      <td>WEEKDAY</td>\n",
              "      <td>11</td>\n",
              "      <td>TRAIN</td>\n",
              "      <td>NS7</td>\n",
              "      <td>2359</td>\n",
              "      <td>1786</td>\n",
              "    </tr>\n",
              "    <tr>\n",
              "      <th>1</th>\n",
              "      <td>2022-01</td>\n",
              "      <td>WEEKENDS/HOLIDAY</td>\n",
              "      <td>11</td>\n",
              "      <td>TRAIN</td>\n",
              "      <td>NS7</td>\n",
              "      <td>1806</td>\n",
              "      <td>1401</td>\n",
              "    </tr>\n",
              "    <tr>\n",
              "      <th>2</th>\n",
              "      <td>2022-01</td>\n",
              "      <td>WEEKDAY</td>\n",
              "      <td>16</td>\n",
              "      <td>TRAIN</td>\n",
              "      <td>SW4</td>\n",
              "      <td>878</td>\n",
              "      <td>1232</td>\n",
              "    </tr>\n",
              "    <tr>\n",
              "      <th>3</th>\n",
              "      <td>2022-01</td>\n",
              "      <td>WEEKENDS/HOLIDAY</td>\n",
              "      <td>16</td>\n",
              "      <td>TRAIN</td>\n",
              "      <td>SW4</td>\n",
              "      <td>638</td>\n",
              "      <td>556</td>\n",
              "    </tr>\n",
              "    <tr>\n",
              "      <th>4</th>\n",
              "      <td>2022-01</td>\n",
              "      <td>WEEKDAY</td>\n",
              "      <td>10</td>\n",
              "      <td>TRAIN</td>\n",
              "      <td>CC5</td>\n",
              "      <td>1184</td>\n",
              "      <td>3346</td>\n",
              "    </tr>\n",
              "  </tbody>\n",
              "</table>\n",
              "</div>\n",
              "      <button class=\"colab-df-convert\" onclick=\"convertToInteractive('df-47ac2401-b20a-41c1-a8c2-426ae760a42f')\"\n",
              "              title=\"Convert this dataframe to an interactive table.\"\n",
              "              style=\"display:none;\">\n",
              "        \n",
              "  <svg xmlns=\"http://www.w3.org/2000/svg\" height=\"24px\"viewBox=\"0 0 24 24\"\n",
              "       width=\"24px\">\n",
              "    <path d=\"M0 0h24v24H0V0z\" fill=\"none\"/>\n",
              "    <path d=\"M18.56 5.44l.94 2.06.94-2.06 2.06-.94-2.06-.94-.94-2.06-.94 2.06-2.06.94zm-11 1L8.5 8.5l.94-2.06 2.06-.94-2.06-.94L8.5 2.5l-.94 2.06-2.06.94zm10 10l.94 2.06.94-2.06 2.06-.94-2.06-.94-.94-2.06-.94 2.06-2.06.94z\"/><path d=\"M17.41 7.96l-1.37-1.37c-.4-.4-.92-.59-1.43-.59-.52 0-1.04.2-1.43.59L10.3 9.45l-7.72 7.72c-.78.78-.78 2.05 0 2.83L4 21.41c.39.39.9.59 1.41.59.51 0 1.02-.2 1.41-.59l7.78-7.78 2.81-2.81c.8-.78.8-2.07 0-2.86zM5.41 20L4 18.59l7.72-7.72 1.47 1.35L5.41 20z\"/>\n",
              "  </svg>\n",
              "      </button>\n",
              "      \n",
              "  <style>\n",
              "    .colab-df-container {\n",
              "      display:flex;\n",
              "      flex-wrap:wrap;\n",
              "      gap: 12px;\n",
              "    }\n",
              "\n",
              "    .colab-df-convert {\n",
              "      background-color: #E8F0FE;\n",
              "      border: none;\n",
              "      border-radius: 50%;\n",
              "      cursor: pointer;\n",
              "      display: none;\n",
              "      fill: #1967D2;\n",
              "      height: 32px;\n",
              "      padding: 0 0 0 0;\n",
              "      width: 32px;\n",
              "    }\n",
              "\n",
              "    .colab-df-convert:hover {\n",
              "      background-color: #E2EBFA;\n",
              "      box-shadow: 0px 1px 2px rgba(60, 64, 67, 0.3), 0px 1px 3px 1px rgba(60, 64, 67, 0.15);\n",
              "      fill: #174EA6;\n",
              "    }\n",
              "\n",
              "    [theme=dark] .colab-df-convert {\n",
              "      background-color: #3B4455;\n",
              "      fill: #D2E3FC;\n",
              "    }\n",
              "\n",
              "    [theme=dark] .colab-df-convert:hover {\n",
              "      background-color: #434B5C;\n",
              "      box-shadow: 0px 1px 3px 1px rgba(0, 0, 0, 0.15);\n",
              "      filter: drop-shadow(0px 1px 2px rgba(0, 0, 0, 0.3));\n",
              "      fill: #FFFFFF;\n",
              "    }\n",
              "  </style>\n",
              "\n",
              "      <script>\n",
              "        const buttonEl =\n",
              "          document.querySelector('#df-47ac2401-b20a-41c1-a8c2-426ae760a42f button.colab-df-convert');\n",
              "        buttonEl.style.display =\n",
              "          google.colab.kernel.accessAllowed ? 'block' : 'none';\n",
              "\n",
              "        async function convertToInteractive(key) {\n",
              "          const element = document.querySelector('#df-47ac2401-b20a-41c1-a8c2-426ae760a42f');\n",
              "          const dataTable =\n",
              "            await google.colab.kernel.invokeFunction('convertToInteractive',\n",
              "                                                     [key], {});\n",
              "          if (!dataTable) return;\n",
              "\n",
              "          const docLinkHtml = 'Like what you see? Visit the ' +\n",
              "            '<a target=\"_blank\" href=https://colab.research.google.com/notebooks/data_table.ipynb>data table notebook</a>'\n",
              "            + ' to learn more about interactive tables.';\n",
              "          element.innerHTML = '';\n",
              "          dataTable['output_type'] = 'display_data';\n",
              "          await google.colab.output.renderOutput(dataTable, element);\n",
              "          const docLink = document.createElement('div');\n",
              "          docLink.innerHTML = docLinkHtml;\n",
              "          element.appendChild(docLink);\n",
              "        }\n",
              "      </script>\n",
              "    </div>\n",
              "  </div>\n",
              "  "
            ],
            "text/plain": [
              "  YEAR_MONTH          DAY_TYPE  ...  TOTAL_TAP_IN_VOLUME TOTAL_TAP_OUT_VOLUME\n",
              "0    2022-01           WEEKDAY  ...                 2359                 1786\n",
              "1    2022-01  WEEKENDS/HOLIDAY  ...                 1806                 1401\n",
              "2    2022-01           WEEKDAY  ...                  878                 1232\n",
              "3    2022-01  WEEKENDS/HOLIDAY  ...                  638                  556\n",
              "4    2022-01           WEEKDAY  ...                 1184                 3346\n",
              "\n",
              "[5 rows x 7 columns]"
            ]
          },
          "metadata": {},
          "execution_count": 2
        }
      ]
    },
    {
      "cell_type": "markdown",
      "source": [
        "### Check for null values"
      ],
      "metadata": {
        "id": "WDMh3oFVxLFM"
      }
    },
    {
      "cell_type": "code",
      "source": [
        "train_volume_dup.isna().sum()"
      ],
      "metadata": {
        "id": "jyksrIknxK0p",
        "colab": {
          "base_uri": "https://localhost:8080/"
        },
        "outputId": "4aaf30bc-66c1-4fa5-a375-c9ae44ec7f8e"
      },
      "execution_count": null,
      "outputs": [
        {
          "output_type": "execute_result",
          "data": {
            "text/plain": [
              "YEAR_MONTH              0\n",
              "DAY_TYPE                0\n",
              "TIME_PER_HOUR           0\n",
              "PT_TYPE                 0\n",
              "PT_CODE                 0\n",
              "TOTAL_TAP_IN_VOLUME     0\n",
              "TOTAL_TAP_OUT_VOLUME    0\n",
              "dtype: int64"
            ]
          },
          "metadata": {},
          "execution_count": 3
        }
      ]
    },
    {
      "cell_type": "markdown",
      "source": [
        "### Check for duplicates"
      ],
      "metadata": {
        "id": "wJeUBtmpw3GP"
      }
    },
    {
      "cell_type": "code",
      "source": [
        "print(f\"Shape before removal of dups: {train_volume_dup.shape}\")\n",
        "train_volume = train_volume_dup.drop_duplicates()\n",
        "print(f\"Shape after removal of dups: {train_volume.shape}\")"
      ],
      "metadata": {
        "id": "oQ1SQ5v2w7sx",
        "colab": {
          "base_uri": "https://localhost:8080/"
        },
        "outputId": "1d34a8a3-90c6-4d10-839e-ac364acf416c"
      },
      "execution_count": null,
      "outputs": [
        {
          "output_type": "stream",
          "name": "stdout",
          "text": [
            "Shape before removal of dups: (6535, 7)\n",
            "Shape after removal of dups: (6535, 7)\n"
          ]
        }
      ]
    },
    {
      "cell_type": "markdown",
      "source": [
        "### New column: Total Commuters\n",
        "- For further data analysis, we will create one new column: ```Total Commuters```\n",
        "- They are defined as follows:\n",
        "  No. of people that tap in at a MRT station + No. people that tap out at a MRT station\n",
        "\n",
        "This will be used to tell how many people is at that particular station at a specific hour"
      ],
      "metadata": {
        "id": "U5-poxkNxT9U"
      }
    },
    {
      "cell_type": "code",
      "source": [
        "train_volume['Total Commuters MRT'] = train_volume['TOTAL_TAP_IN_VOLUME'] + train_volume['TOTAL_TAP_OUT_VOLUME']"
      ],
      "metadata": {
        "id": "Uy3ZRwlwyWT8"
      },
      "execution_count": null,
      "outputs": []
    },
    {
      "cell_type": "markdown",
      "source": [
        "### Rename Columns features for easier understanding"
      ],
      "metadata": {
        "id": "c6c-K0dUz6tL"
      }
    },
    {
      "cell_type": "code",
      "source": [
        "train_volume.rename(columns = {\n",
        "    \"YEAR_MONTH\" : \"Year-Month\",\n",
        "    \"DAY_TYPE\" : \"Day Type\",\n",
        "    \"TIME_PER_HOUR\" : \"Time of Day\",\n",
        "    \"PT_TYPE\" : \"Transport Type\",\n",
        "    \"PT_CODE\" : \"MRT STATION\",\n",
        "    \"TOTAL_TAP_IN_VOLUME\" : \"Hourly Tap In Volume\",\n",
        "    \"TOTAL_TAP_OUT_VOLUME\" : \"Hourly Tap Out Volume\"\n",
        "}, inplace = True)\n",
        "train_volume.head()"
      ],
      "metadata": {
        "id": "Clcji1Jwz7pc",
        "colab": {
          "base_uri": "https://localhost:8080/",
          "height": 206
        },
        "outputId": "014f2181-29a1-4574-870e-b97b38a015b1"
      },
      "execution_count": null,
      "outputs": [
        {
          "output_type": "execute_result",
          "data": {
            "text/html": [
              "\n",
              "  <div id=\"df-a21ba93a-0555-443d-b9f8-389c2e199afd\">\n",
              "    <div class=\"colab-df-container\">\n",
              "      <div>\n",
              "<style scoped>\n",
              "    .dataframe tbody tr th:only-of-type {\n",
              "        vertical-align: middle;\n",
              "    }\n",
              "\n",
              "    .dataframe tbody tr th {\n",
              "        vertical-align: top;\n",
              "    }\n",
              "\n",
              "    .dataframe thead th {\n",
              "        text-align: right;\n",
              "    }\n",
              "</style>\n",
              "<table border=\"1\" class=\"dataframe\">\n",
              "  <thead>\n",
              "    <tr style=\"text-align: right;\">\n",
              "      <th></th>\n",
              "      <th>Year-Month</th>\n",
              "      <th>Day Type</th>\n",
              "      <th>Time of Day</th>\n",
              "      <th>Transport Type</th>\n",
              "      <th>MRT STATION</th>\n",
              "      <th>Hourly Tap In Volume</th>\n",
              "      <th>Hourly Tap Out Volume</th>\n",
              "      <th>Total Commuters MRT</th>\n",
              "    </tr>\n",
              "  </thead>\n",
              "  <tbody>\n",
              "    <tr>\n",
              "      <th>0</th>\n",
              "      <td>2022-01</td>\n",
              "      <td>WEEKDAY</td>\n",
              "      <td>11</td>\n",
              "      <td>TRAIN</td>\n",
              "      <td>NS7</td>\n",
              "      <td>2359</td>\n",
              "      <td>1786</td>\n",
              "      <td>4145</td>\n",
              "    </tr>\n",
              "    <tr>\n",
              "      <th>1</th>\n",
              "      <td>2022-01</td>\n",
              "      <td>WEEKENDS/HOLIDAY</td>\n",
              "      <td>11</td>\n",
              "      <td>TRAIN</td>\n",
              "      <td>NS7</td>\n",
              "      <td>1806</td>\n",
              "      <td>1401</td>\n",
              "      <td>3207</td>\n",
              "    </tr>\n",
              "    <tr>\n",
              "      <th>2</th>\n",
              "      <td>2022-01</td>\n",
              "      <td>WEEKDAY</td>\n",
              "      <td>16</td>\n",
              "      <td>TRAIN</td>\n",
              "      <td>SW4</td>\n",
              "      <td>878</td>\n",
              "      <td>1232</td>\n",
              "      <td>2110</td>\n",
              "    </tr>\n",
              "    <tr>\n",
              "      <th>3</th>\n",
              "      <td>2022-01</td>\n",
              "      <td>WEEKENDS/HOLIDAY</td>\n",
              "      <td>16</td>\n",
              "      <td>TRAIN</td>\n",
              "      <td>SW4</td>\n",
              "      <td>638</td>\n",
              "      <td>556</td>\n",
              "      <td>1194</td>\n",
              "    </tr>\n",
              "    <tr>\n",
              "      <th>4</th>\n",
              "      <td>2022-01</td>\n",
              "      <td>WEEKDAY</td>\n",
              "      <td>10</td>\n",
              "      <td>TRAIN</td>\n",
              "      <td>CC5</td>\n",
              "      <td>1184</td>\n",
              "      <td>3346</td>\n",
              "      <td>4530</td>\n",
              "    </tr>\n",
              "  </tbody>\n",
              "</table>\n",
              "</div>\n",
              "      <button class=\"colab-df-convert\" onclick=\"convertToInteractive('df-a21ba93a-0555-443d-b9f8-389c2e199afd')\"\n",
              "              title=\"Convert this dataframe to an interactive table.\"\n",
              "              style=\"display:none;\">\n",
              "        \n",
              "  <svg xmlns=\"http://www.w3.org/2000/svg\" height=\"24px\"viewBox=\"0 0 24 24\"\n",
              "       width=\"24px\">\n",
              "    <path d=\"M0 0h24v24H0V0z\" fill=\"none\"/>\n",
              "    <path d=\"M18.56 5.44l.94 2.06.94-2.06 2.06-.94-2.06-.94-.94-2.06-.94 2.06-2.06.94zm-11 1L8.5 8.5l.94-2.06 2.06-.94-2.06-.94L8.5 2.5l-.94 2.06-2.06.94zm10 10l.94 2.06.94-2.06 2.06-.94-2.06-.94-.94-2.06-.94 2.06-2.06.94z\"/><path d=\"M17.41 7.96l-1.37-1.37c-.4-.4-.92-.59-1.43-.59-.52 0-1.04.2-1.43.59L10.3 9.45l-7.72 7.72c-.78.78-.78 2.05 0 2.83L4 21.41c.39.39.9.59 1.41.59.51 0 1.02-.2 1.41-.59l7.78-7.78 2.81-2.81c.8-.78.8-2.07 0-2.86zM5.41 20L4 18.59l7.72-7.72 1.47 1.35L5.41 20z\"/>\n",
              "  </svg>\n",
              "      </button>\n",
              "      \n",
              "  <style>\n",
              "    .colab-df-container {\n",
              "      display:flex;\n",
              "      flex-wrap:wrap;\n",
              "      gap: 12px;\n",
              "    }\n",
              "\n",
              "    .colab-df-convert {\n",
              "      background-color: #E8F0FE;\n",
              "      border: none;\n",
              "      border-radius: 50%;\n",
              "      cursor: pointer;\n",
              "      display: none;\n",
              "      fill: #1967D2;\n",
              "      height: 32px;\n",
              "      padding: 0 0 0 0;\n",
              "      width: 32px;\n",
              "    }\n",
              "\n",
              "    .colab-df-convert:hover {\n",
              "      background-color: #E2EBFA;\n",
              "      box-shadow: 0px 1px 2px rgba(60, 64, 67, 0.3), 0px 1px 3px 1px rgba(60, 64, 67, 0.15);\n",
              "      fill: #174EA6;\n",
              "    }\n",
              "\n",
              "    [theme=dark] .colab-df-convert {\n",
              "      background-color: #3B4455;\n",
              "      fill: #D2E3FC;\n",
              "    }\n",
              "\n",
              "    [theme=dark] .colab-df-convert:hover {\n",
              "      background-color: #434B5C;\n",
              "      box-shadow: 0px 1px 3px 1px rgba(0, 0, 0, 0.15);\n",
              "      filter: drop-shadow(0px 1px 2px rgba(0, 0, 0, 0.3));\n",
              "      fill: #FFFFFF;\n",
              "    }\n",
              "  </style>\n",
              "\n",
              "      <script>\n",
              "        const buttonEl =\n",
              "          document.querySelector('#df-a21ba93a-0555-443d-b9f8-389c2e199afd button.colab-df-convert');\n",
              "        buttonEl.style.display =\n",
              "          google.colab.kernel.accessAllowed ? 'block' : 'none';\n",
              "\n",
              "        async function convertToInteractive(key) {\n",
              "          const element = document.querySelector('#df-a21ba93a-0555-443d-b9f8-389c2e199afd');\n",
              "          const dataTable =\n",
              "            await google.colab.kernel.invokeFunction('convertToInteractive',\n",
              "                                                     [key], {});\n",
              "          if (!dataTable) return;\n",
              "\n",
              "          const docLinkHtml = 'Like what you see? Visit the ' +\n",
              "            '<a target=\"_blank\" href=https://colab.research.google.com/notebooks/data_table.ipynb>data table notebook</a>'\n",
              "            + ' to learn more about interactive tables.';\n",
              "          element.innerHTML = '';\n",
              "          dataTable['output_type'] = 'display_data';\n",
              "          await google.colab.output.renderOutput(dataTable, element);\n",
              "          const docLink = document.createElement('div');\n",
              "          docLink.innerHTML = docLinkHtml;\n",
              "          element.appendChild(docLink);\n",
              "        }\n",
              "      </script>\n",
              "    </div>\n",
              "  </div>\n",
              "  "
            ],
            "text/plain": [
              "  Year-Month          Day Type  ...  Hourly Tap Out Volume Total Commuters MRT\n",
              "0    2022-01           WEEKDAY  ...                   1786                4145\n",
              "1    2022-01  WEEKENDS/HOLIDAY  ...                   1401                3207\n",
              "2    2022-01           WEEKDAY  ...                   1232                2110\n",
              "3    2022-01  WEEKENDS/HOLIDAY  ...                    556                1194\n",
              "4    2022-01           WEEKDAY  ...                   3346                4530\n",
              "\n",
              "[5 rows x 8 columns]"
            ]
          },
          "metadata": {},
          "execution_count": 6
        }
      ]
    },
    {
      "cell_type": "markdown",
      "source": [
        "### Descriptive Analysis"
      ],
      "metadata": {
        "id": "DZZdcpZk0vFu"
      }
    },
    {
      "cell_type": "code",
      "source": [
        "train_volume.describe()"
      ],
      "metadata": {
        "id": "o57lDSM90v5L",
        "colab": {
          "base_uri": "https://localhost:8080/",
          "height": 300
        },
        "outputId": "3a03054a-f870-476b-feff-c664cb7b30cc"
      },
      "execution_count": null,
      "outputs": [
        {
          "output_type": "execute_result",
          "data": {
            "text/html": [
              "\n",
              "  <div id=\"df-aa766753-1af3-41b3-b7ed-bbc709b4d377\">\n",
              "    <div class=\"colab-df-container\">\n",
              "      <div>\n",
              "<style scoped>\n",
              "    .dataframe tbody tr th:only-of-type {\n",
              "        vertical-align: middle;\n",
              "    }\n",
              "\n",
              "    .dataframe tbody tr th {\n",
              "        vertical-align: top;\n",
              "    }\n",
              "\n",
              "    .dataframe thead th {\n",
              "        text-align: right;\n",
              "    }\n",
              "</style>\n",
              "<table border=\"1\" class=\"dataframe\">\n",
              "  <thead>\n",
              "    <tr style=\"text-align: right;\">\n",
              "      <th></th>\n",
              "      <th>Time of Day</th>\n",
              "      <th>Hourly Tap In Volume</th>\n",
              "      <th>Hourly Tap Out Volume</th>\n",
              "      <th>Total Commuters MRT</th>\n",
              "    </tr>\n",
              "  </thead>\n",
              "  <tbody>\n",
              "    <tr>\n",
              "      <th>count</th>\n",
              "      <td>6535.000000</td>\n",
              "      <td>6535.000000</td>\n",
              "      <td>6535.000000</td>\n",
              "      <td>6535.000000</td>\n",
              "    </tr>\n",
              "    <tr>\n",
              "      <th>mean</th>\n",
              "      <td>13.351951</td>\n",
              "      <td>7466.342464</td>\n",
              "      <td>7440.056771</td>\n",
              "      <td>14906.399235</td>\n",
              "    </tr>\n",
              "    <tr>\n",
              "      <th>std</th>\n",
              "      <td>6.104093</td>\n",
              "      <td>11540.937175</td>\n",
              "      <td>11563.268554</td>\n",
              "      <td>21461.875552</td>\n",
              "    </tr>\n",
              "    <tr>\n",
              "      <th>min</th>\n",
              "      <td>0.000000</td>\n",
              "      <td>0.000000</td>\n",
              "      <td>0.000000</td>\n",
              "      <td>1.000000</td>\n",
              "    </tr>\n",
              "    <tr>\n",
              "      <th>25%</th>\n",
              "      <td>9.000000</td>\n",
              "      <td>1042.000000</td>\n",
              "      <td>1055.500000</td>\n",
              "      <td>2330.000000</td>\n",
              "    </tr>\n",
              "    <tr>\n",
              "      <th>50%</th>\n",
              "      <td>14.000000</td>\n",
              "      <td>2947.000000</td>\n",
              "      <td>2936.000000</td>\n",
              "      <td>6390.000000</td>\n",
              "    </tr>\n",
              "    <tr>\n",
              "      <th>75%</th>\n",
              "      <td>19.000000</td>\n",
              "      <td>8926.500000</td>\n",
              "      <td>8558.000000</td>\n",
              "      <td>18187.000000</td>\n",
              "    </tr>\n",
              "    <tr>\n",
              "      <th>max</th>\n",
              "      <td>23.000000</td>\n",
              "      <td>142063.000000</td>\n",
              "      <td>121717.000000</td>\n",
              "      <td>246169.000000</td>\n",
              "    </tr>\n",
              "  </tbody>\n",
              "</table>\n",
              "</div>\n",
              "      <button class=\"colab-df-convert\" onclick=\"convertToInteractive('df-aa766753-1af3-41b3-b7ed-bbc709b4d377')\"\n",
              "              title=\"Convert this dataframe to an interactive table.\"\n",
              "              style=\"display:none;\">\n",
              "        \n",
              "  <svg xmlns=\"http://www.w3.org/2000/svg\" height=\"24px\"viewBox=\"0 0 24 24\"\n",
              "       width=\"24px\">\n",
              "    <path d=\"M0 0h24v24H0V0z\" fill=\"none\"/>\n",
              "    <path d=\"M18.56 5.44l.94 2.06.94-2.06 2.06-.94-2.06-.94-.94-2.06-.94 2.06-2.06.94zm-11 1L8.5 8.5l.94-2.06 2.06-.94-2.06-.94L8.5 2.5l-.94 2.06-2.06.94zm10 10l.94 2.06.94-2.06 2.06-.94-2.06-.94-.94-2.06-.94 2.06-2.06.94z\"/><path d=\"M17.41 7.96l-1.37-1.37c-.4-.4-.92-.59-1.43-.59-.52 0-1.04.2-1.43.59L10.3 9.45l-7.72 7.72c-.78.78-.78 2.05 0 2.83L4 21.41c.39.39.9.59 1.41.59.51 0 1.02-.2 1.41-.59l7.78-7.78 2.81-2.81c.8-.78.8-2.07 0-2.86zM5.41 20L4 18.59l7.72-7.72 1.47 1.35L5.41 20z\"/>\n",
              "  </svg>\n",
              "      </button>\n",
              "      \n",
              "  <style>\n",
              "    .colab-df-container {\n",
              "      display:flex;\n",
              "      flex-wrap:wrap;\n",
              "      gap: 12px;\n",
              "    }\n",
              "\n",
              "    .colab-df-convert {\n",
              "      background-color: #E8F0FE;\n",
              "      border: none;\n",
              "      border-radius: 50%;\n",
              "      cursor: pointer;\n",
              "      display: none;\n",
              "      fill: #1967D2;\n",
              "      height: 32px;\n",
              "      padding: 0 0 0 0;\n",
              "      width: 32px;\n",
              "    }\n",
              "\n",
              "    .colab-df-convert:hover {\n",
              "      background-color: #E2EBFA;\n",
              "      box-shadow: 0px 1px 2px rgba(60, 64, 67, 0.3), 0px 1px 3px 1px rgba(60, 64, 67, 0.15);\n",
              "      fill: #174EA6;\n",
              "    }\n",
              "\n",
              "    [theme=dark] .colab-df-convert {\n",
              "      background-color: #3B4455;\n",
              "      fill: #D2E3FC;\n",
              "    }\n",
              "\n",
              "    [theme=dark] .colab-df-convert:hover {\n",
              "      background-color: #434B5C;\n",
              "      box-shadow: 0px 1px 3px 1px rgba(0, 0, 0, 0.15);\n",
              "      filter: drop-shadow(0px 1px 2px rgba(0, 0, 0, 0.3));\n",
              "      fill: #FFFFFF;\n",
              "    }\n",
              "  </style>\n",
              "\n",
              "      <script>\n",
              "        const buttonEl =\n",
              "          document.querySelector('#df-aa766753-1af3-41b3-b7ed-bbc709b4d377 button.colab-df-convert');\n",
              "        buttonEl.style.display =\n",
              "          google.colab.kernel.accessAllowed ? 'block' : 'none';\n",
              "\n",
              "        async function convertToInteractive(key) {\n",
              "          const element = document.querySelector('#df-aa766753-1af3-41b3-b7ed-bbc709b4d377');\n",
              "          const dataTable =\n",
              "            await google.colab.kernel.invokeFunction('convertToInteractive',\n",
              "                                                     [key], {});\n",
              "          if (!dataTable) return;\n",
              "\n",
              "          const docLinkHtml = 'Like what you see? Visit the ' +\n",
              "            '<a target=\"_blank\" href=https://colab.research.google.com/notebooks/data_table.ipynb>data table notebook</a>'\n",
              "            + ' to learn more about interactive tables.';\n",
              "          element.innerHTML = '';\n",
              "          dataTable['output_type'] = 'display_data';\n",
              "          await google.colab.output.renderOutput(dataTable, element);\n",
              "          const docLink = document.createElement('div');\n",
              "          docLink.innerHTML = docLinkHtml;\n",
              "          element.appendChild(docLink);\n",
              "        }\n",
              "      </script>\n",
              "    </div>\n",
              "  </div>\n",
              "  "
            ],
            "text/plain": [
              "       Time of Day  ...  Total Commuters MRT\n",
              "count  6535.000000  ...          6535.000000\n",
              "mean     13.351951  ...         14906.399235\n",
              "std       6.104093  ...         21461.875552\n",
              "min       0.000000  ...             1.000000\n",
              "25%       9.000000  ...          2330.000000\n",
              "50%      14.000000  ...          6390.000000\n",
              "75%      19.000000  ...         18187.000000\n",
              "max      23.000000  ...        246169.000000\n",
              "\n",
              "[8 rows x 4 columns]"
            ]
          },
          "metadata": {},
          "execution_count": 7
        }
      ]
    },
    {
      "cell_type": "code",
      "source": [
        "train_volume.pivot_table(values = [\"Hourly Tap In Volume\",\"Hourly Tap Out Volume\"],index= \"Day Type\", aggfunc= [min, max, np.mean, np.median, np.std]) "
      ],
      "metadata": {
        "id": "Vs_e0YR-11xq",
        "colab": {
          "base_uri": "https://localhost:8080/",
          "height": 236
        },
        "outputId": "c063ac24-fd0f-4293-e572-997efce1ac86"
      },
      "execution_count": null,
      "outputs": [
        {
          "output_type": "execute_result",
          "data": {
            "text/html": [
              "\n",
              "  <div id=\"df-e364cdb2-a077-4a3c-9df3-ba8d00eff9c5\">\n",
              "    <div class=\"colab-df-container\">\n",
              "      <div>\n",
              "<style scoped>\n",
              "    .dataframe tbody tr th:only-of-type {\n",
              "        vertical-align: middle;\n",
              "    }\n",
              "\n",
              "    .dataframe tbody tr th {\n",
              "        vertical-align: top;\n",
              "    }\n",
              "\n",
              "    .dataframe thead tr th {\n",
              "        text-align: left;\n",
              "    }\n",
              "\n",
              "    .dataframe thead tr:last-of-type th {\n",
              "        text-align: right;\n",
              "    }\n",
              "</style>\n",
              "<table border=\"1\" class=\"dataframe\">\n",
              "  <thead>\n",
              "    <tr>\n",
              "      <th></th>\n",
              "      <th colspan=\"2\" halign=\"left\">min</th>\n",
              "      <th colspan=\"2\" halign=\"left\">max</th>\n",
              "      <th colspan=\"2\" halign=\"left\">mean</th>\n",
              "      <th colspan=\"2\" halign=\"left\">median</th>\n",
              "      <th colspan=\"2\" halign=\"left\">std</th>\n",
              "    </tr>\n",
              "    <tr>\n",
              "      <th></th>\n",
              "      <th>Hourly Tap In Volume</th>\n",
              "      <th>Hourly Tap Out Volume</th>\n",
              "      <th>Hourly Tap In Volume</th>\n",
              "      <th>Hourly Tap Out Volume</th>\n",
              "      <th>Hourly Tap In Volume</th>\n",
              "      <th>Hourly Tap Out Volume</th>\n",
              "      <th>Hourly Tap In Volume</th>\n",
              "      <th>Hourly Tap Out Volume</th>\n",
              "      <th>Hourly Tap In Volume</th>\n",
              "      <th>Hourly Tap Out Volume</th>\n",
              "    </tr>\n",
              "    <tr>\n",
              "      <th>Day Type</th>\n",
              "      <th></th>\n",
              "      <th></th>\n",
              "      <th></th>\n",
              "      <th></th>\n",
              "      <th></th>\n",
              "      <th></th>\n",
              "      <th></th>\n",
              "      <th></th>\n",
              "      <th></th>\n",
              "      <th></th>\n",
              "    </tr>\n",
              "  </thead>\n",
              "  <tbody>\n",
              "    <tr>\n",
              "      <th>WEEKDAY</th>\n",
              "      <td>0</td>\n",
              "      <td>0</td>\n",
              "      <td>142063</td>\n",
              "      <td>121717</td>\n",
              "      <td>10726.128825</td>\n",
              "      <td>10685.623623</td>\n",
              "      <td>4919.5</td>\n",
              "      <td>4677</td>\n",
              "      <td>14528.338138</td>\n",
              "      <td>14548.901071</td>\n",
              "    </tr>\n",
              "    <tr>\n",
              "      <th>WEEKENDS/HOLIDAY</th>\n",
              "      <td>0</td>\n",
              "      <td>0</td>\n",
              "      <td>42787</td>\n",
              "      <td>41538</td>\n",
              "      <td>4205.558310</td>\n",
              "      <td>4193.496480</td>\n",
              "      <td>1752.0</td>\n",
              "      <td>1761</td>\n",
              "      <td>5836.274993</td>\n",
              "      <td>5889.089098</td>\n",
              "    </tr>\n",
              "  </tbody>\n",
              "</table>\n",
              "</div>\n",
              "      <button class=\"colab-df-convert\" onclick=\"convertToInteractive('df-e364cdb2-a077-4a3c-9df3-ba8d00eff9c5')\"\n",
              "              title=\"Convert this dataframe to an interactive table.\"\n",
              "              style=\"display:none;\">\n",
              "        \n",
              "  <svg xmlns=\"http://www.w3.org/2000/svg\" height=\"24px\"viewBox=\"0 0 24 24\"\n",
              "       width=\"24px\">\n",
              "    <path d=\"M0 0h24v24H0V0z\" fill=\"none\"/>\n",
              "    <path d=\"M18.56 5.44l.94 2.06.94-2.06 2.06-.94-2.06-.94-.94-2.06-.94 2.06-2.06.94zm-11 1L8.5 8.5l.94-2.06 2.06-.94-2.06-.94L8.5 2.5l-.94 2.06-2.06.94zm10 10l.94 2.06.94-2.06 2.06-.94-2.06-.94-.94-2.06-.94 2.06-2.06.94z\"/><path d=\"M17.41 7.96l-1.37-1.37c-.4-.4-.92-.59-1.43-.59-.52 0-1.04.2-1.43.59L10.3 9.45l-7.72 7.72c-.78.78-.78 2.05 0 2.83L4 21.41c.39.39.9.59 1.41.59.51 0 1.02-.2 1.41-.59l7.78-7.78 2.81-2.81c.8-.78.8-2.07 0-2.86zM5.41 20L4 18.59l7.72-7.72 1.47 1.35L5.41 20z\"/>\n",
              "  </svg>\n",
              "      </button>\n",
              "      \n",
              "  <style>\n",
              "    .colab-df-container {\n",
              "      display:flex;\n",
              "      flex-wrap:wrap;\n",
              "      gap: 12px;\n",
              "    }\n",
              "\n",
              "    .colab-df-convert {\n",
              "      background-color: #E8F0FE;\n",
              "      border: none;\n",
              "      border-radius: 50%;\n",
              "      cursor: pointer;\n",
              "      display: none;\n",
              "      fill: #1967D2;\n",
              "      height: 32px;\n",
              "      padding: 0 0 0 0;\n",
              "      width: 32px;\n",
              "    }\n",
              "\n",
              "    .colab-df-convert:hover {\n",
              "      background-color: #E2EBFA;\n",
              "      box-shadow: 0px 1px 2px rgba(60, 64, 67, 0.3), 0px 1px 3px 1px rgba(60, 64, 67, 0.15);\n",
              "      fill: #174EA6;\n",
              "    }\n",
              "\n",
              "    [theme=dark] .colab-df-convert {\n",
              "      background-color: #3B4455;\n",
              "      fill: #D2E3FC;\n",
              "    }\n",
              "\n",
              "    [theme=dark] .colab-df-convert:hover {\n",
              "      background-color: #434B5C;\n",
              "      box-shadow: 0px 1px 3px 1px rgba(0, 0, 0, 0.15);\n",
              "      filter: drop-shadow(0px 1px 2px rgba(0, 0, 0, 0.3));\n",
              "      fill: #FFFFFF;\n",
              "    }\n",
              "  </style>\n",
              "\n",
              "      <script>\n",
              "        const buttonEl =\n",
              "          document.querySelector('#df-e364cdb2-a077-4a3c-9df3-ba8d00eff9c5 button.colab-df-convert');\n",
              "        buttonEl.style.display =\n",
              "          google.colab.kernel.accessAllowed ? 'block' : 'none';\n",
              "\n",
              "        async function convertToInteractive(key) {\n",
              "          const element = document.querySelector('#df-e364cdb2-a077-4a3c-9df3-ba8d00eff9c5');\n",
              "          const dataTable =\n",
              "            await google.colab.kernel.invokeFunction('convertToInteractive',\n",
              "                                                     [key], {});\n",
              "          if (!dataTable) return;\n",
              "\n",
              "          const docLinkHtml = 'Like what you see? Visit the ' +\n",
              "            '<a target=\"_blank\" href=https://colab.research.google.com/notebooks/data_table.ipynb>data table notebook</a>'\n",
              "            + ' to learn more about interactive tables.';\n",
              "          element.innerHTML = '';\n",
              "          dataTable['output_type'] = 'display_data';\n",
              "          await google.colab.output.renderOutput(dataTable, element);\n",
              "          const docLink = document.createElement('div');\n",
              "          docLink.innerHTML = docLinkHtml;\n",
              "          element.appendChild(docLink);\n",
              "        }\n",
              "      </script>\n",
              "    </div>\n",
              "  </div>\n",
              "  "
            ],
            "text/plain": [
              "                                  min  ...                   std\n",
              "                 Hourly Tap In Volume  ... Hourly Tap Out Volume\n",
              "Day Type                               ...                      \n",
              "WEEKDAY                             0  ...          14548.901071\n",
              "WEEKENDS/HOLIDAY                    0  ...           5889.089098\n",
              "\n",
              "[2 rows x 10 columns]"
            ]
          },
          "metadata": {},
          "execution_count": 8
        }
      ]
    },
    {
      "cell_type": "markdown",
      "source": [
        "From the Table we can see that Weekdays have Higher Median tap in tap out volumes then Weekends/holiday"
      ],
      "metadata": {
        "id": "LtttoCRR2dQB"
      }
    },
    {
      "cell_type": "markdown",
      "source": [
        "### Check + Correct Datatypes"
      ],
      "metadata": {
        "id": "4qlKZ24e27nu"
      }
    },
    {
      "cell_type": "code",
      "source": [
        "train_volume.info()"
      ],
      "metadata": {
        "id": "CCD99fGr2_Z0",
        "colab": {
          "base_uri": "https://localhost:8080/"
        },
        "outputId": "d07102a4-b2c8-4589-a48e-37b5fefd4205"
      },
      "execution_count": null,
      "outputs": [
        {
          "output_type": "stream",
          "name": "stdout",
          "text": [
            "<class 'pandas.core.frame.DataFrame'>\n",
            "Int64Index: 6535 entries, 0 to 6534\n",
            "Data columns (total 8 columns):\n",
            " #   Column                 Non-Null Count  Dtype \n",
            "---  ------                 --------------  ----- \n",
            " 0   Year-Month             6535 non-null   object\n",
            " 1   Day Type               6535 non-null   object\n",
            " 2   Time of Day            6535 non-null   int64 \n",
            " 3   Transport Type         6535 non-null   object\n",
            " 4   MRT STATION            6535 non-null   object\n",
            " 5   Hourly Tap In Volume   6535 non-null   int64 \n",
            " 6   Hourly Tap Out Volume  6535 non-null   int64 \n",
            " 7   Total Commuters MRT    6535 non-null   int64 \n",
            "dtypes: int64(4), object(4)\n",
            "memory usage: 459.5+ KB\n"
          ]
        }
      ]
    },
    {
      "cell_type": "markdown",
      "source": [
        "It looks like the column ```Year-Month``` is an ```object``` dtype where it should be ```datetime```\n",
        "\n",
        "Lets fix that"
      ],
      "metadata": {
        "id": "wQp60hRc3wsr"
      }
    },
    {
      "cell_type": "code",
      "source": [
        "train_volume[\"Year-Month\"] = pd.to_datetime(train_volume[\"Year-Month\"])\n",
        "train_volume.info()"
      ],
      "metadata": {
        "id": "yx3_qmgd4ARj",
        "colab": {
          "base_uri": "https://localhost:8080/"
        },
        "outputId": "02780892-8c78-4a82-e2df-eae44650b38f"
      },
      "execution_count": null,
      "outputs": [
        {
          "output_type": "stream",
          "name": "stdout",
          "text": [
            "<class 'pandas.core.frame.DataFrame'>\n",
            "Int64Index: 6535 entries, 0 to 6534\n",
            "Data columns (total 8 columns):\n",
            " #   Column                 Non-Null Count  Dtype         \n",
            "---  ------                 --------------  -----         \n",
            " 0   Year-Month             6535 non-null   datetime64[ns]\n",
            " 1   Day Type               6535 non-null   object        \n",
            " 2   Time of Day            6535 non-null   int64         \n",
            " 3   Transport Type         6535 non-null   object        \n",
            " 4   MRT STATION            6535 non-null   object        \n",
            " 5   Hourly Tap In Volume   6535 non-null   int64         \n",
            " 6   Hourly Tap Out Volume  6535 non-null   int64         \n",
            " 7   Total Commuters MRT    6535 non-null   int64         \n",
            "dtypes: datetime64[ns](1), int64(4), object(3)\n",
            "memory usage: 459.5+ KB\n"
          ]
        }
      ]
    },
    {
      "cell_type": "markdown",
      "source": [
        "### Check for Outliers"
      ],
      "metadata": {
        "id": "Xsy6jmQ741Ad"
      }
    },
    {
      "cell_type": "code",
      "source": [
        "# Data Processing\n",
        "train_volume_melt= train_volume.melt(id_vars=['Year-Month','Day Type','MRT STATION','Time of Day'],value_vars=['Hourly Tap In Volume','Hourly Tap Out Volume','Total Commuters MRT'] ,var_name='Type of Tap',value_name='People Volume Hourly')\n",
        "train_volume_melt['Type of Tap'].replace({\"Hourly Tap In Volume\": \"Tap in\", \"Hourly Tap Out Volume\": \"Tap out\"}, inplace=True)\n",
        "train_volume_melt\n",
        "\n",
        "\n",
        "# Plotting of graphs\n",
        "g = sns.catplot(y = \"People Volume Hourly\", col = \"Type of Tap\", data = train_volume_melt, kind=\"box\", palette='Set2', height = 6,hue='Type of Tap', showmeans = True, meanprops = {\n",
        "    \"marker\" : \"s\",\n",
        "    \"markeredgecolor\" : \"gray\",\n",
        "    \"markerfacecolor\" : \"black\"\n",
        "}) # produce a boxplot, with mean also shown\n",
        "\n",
        "g.fig.suptitle(\"Box plot of Hourly Tap in/outs\", weight = \"semibold\" ,size=20, backgroundcolor= 'darkslateblue' ,color='whitesmoke')\n",
        "g.fig.subplots_adjust(top = 0.88) # adjust position of title to not overlap with graph\n",
        "\n",
        "# plot.fig.supxlabel(weight = \"semibold\" ,size=17, backgroundcolor= 'darkslateblue' ,color='whitesmoke')\n",
        "g.set(ylim=(0, 200000)) # Set y-limit to 200,000\n",
        "# print(type(plot))\n",
        "g.fig.subplots_adjust(top = 0.9) # adjust position of title to not overlap with graph\n",
        "# plot.ax.get_yaxis().get_major_formatter().set_scientific(False) # remove scientific notation for easier reading\n",
        "plt.show()\n",
        "\n",
        "\n",
        "\n"
      ],
      "metadata": {
        "id": "vuzww1ZM5DT9",
        "colab": {
          "base_uri": "https://localhost:8080/",
          "height": 445
        },
        "outputId": "33bab630-7551-498a-9b55-5e7a54648a57"
      },
      "execution_count": null,
      "outputs": [
        {
          "output_type": "display_data",
          "data": {
            "image/png": "[encoded data removed]",
            "text/plain": [
              "<Figure size 1296x432 with 3 Axes>"
            ]
          },
          "metadata": {
            "needs_background": "light"
          }
        }
      ]
    },
    {
      "cell_type": "markdown",
      "source": [
        "All three box plots shows a positively skewed distribution and there is many outlier values outside the wiskers range of 1.5*IQR"
      ],
      "metadata": {
        "id": "11IqwPnkBj6R"
      }
    },
    {
      "cell_type": "markdown",
      "source": [
        "### Infomation about Outliers\n",
        "\n",
        "Outliers increase the variability in your data, which decreases statistical power."
      ],
      "metadata": {
        "id": "SEcQmjQYCiNd"
      }
    },
    {
      "cell_type": "markdown",
      "source": [
        "#### Outilers in Hourly **Tap In** Volume"
      ],
      "metadata": {
        "id": "Ch2_H8-gIvds"
      }
    },
    {
      "cell_type": "code",
      "source": [
        "#Data Processing: Get Outlier values of specific column\n",
        "Q3 = train_volume[\"Hourly Tap In Volume\"].quantile(0.75)\n",
        "Q1 = train_volume[\"Hourly Tap In Volume\"].quantile(0.25)\n",
        "IQR = Q3 - Q1\n",
        "UpperFence = Q3 + 1.5 * IQR\n",
        "LowerFence = Q1 - 1.5 * IQR\n",
        "mask = (train_volume[\"Hourly Tap In Volume\"] > UpperFence) | (train_volume[\"Hourly Tap In Volume\"] < LowerFence)\n",
        "outlier_train_volume_Tapin = train_volume[mask]\n",
        "\n",
        "#Plot\n",
        "fig, ax = plt.subplots(figsize = (12, 7), tight_layout = True)\n",
        "sns.histplot(outlier_train_volume_Tapin, x=\"Time of Day\", element=\"step\",bins=10)\n",
        "\n",
        "#Customizations\n",
        "ax.set_title(\"Distribution of Outliers in Tap in by Time of Day (hours)\", loc = \"center\",color='whitesmoke',weight='bold',size=20, backgroundcolor= 'darkslateblue')\n",
        "ax.set_ylabel(\"Count\",color='darkblue',weight='bold',size=15)\n",
        "ax.set_xlabel(\"Time of Day\",color='darkblue',weight='bold',size=15)\n",
        "ax.set_xticks(train_volume['Time of Day'].unique())\n",
        "\n",
        "# ax.set_xticks()\n",
        "ax.tick_params(axis='both', colors='black',size=12)\n"
      ],
      "metadata": {
        "id": "YUZ4RGITBEv1",
        "colab": {
          "base_uri": "https://localhost:8080/",
          "height": 513
        },
        "outputId": "2eaee2a5-722f-4a3f-8dd1-aecb6ebc1437"
      },
      "execution_count": null,
      "outputs": [
        {
          "output_type": "display_data",
          "data": {
            "image/png": "[encoded data removed]",
            "text/plain": [
              "<Figure size 864x504 with 1 Axes>"
            ]
          },
          "metadata": {
            "needs_background": "light"
          }
        }
      ]
    },
    {
      "cell_type": "markdown",
      "source": [
        "#### Outilers in Hourly **Tap out** Volume"
      ],
      "metadata": {
        "id": "woESrsADJfmU"
      }
    },
    {
      "cell_type": "code",
      "source": [
        "#Data Processing: Get Outlier values of specific column\n",
        "Q3 = train_volume[\"Hourly Tap Out Volume\"].quantile(0.75)\n",
        "Q1 = train_volume[\"Hourly Tap Out Volume\"].quantile(0.25)\n",
        "IQR = Q3 - Q1\n",
        "UpperFence = Q3 + 1.5 * IQR\n",
        "LowerFence = Q1 - 1.5 * IQR\n",
        "mask = (train_volume[\"Hourly Tap Out Volume\"] > UpperFence) | (train_volume[\"Hourly Tap Out Volume\"] < LowerFence)\n",
        "outlier_train_volume_Tapin = train_volume[mask]\n",
        "\n",
        "#Plot\n",
        "fig, ax = plt.subplots(figsize = (12, 7), tight_layout = True)\n",
        "sns.histplot(outlier_train_volume_Tapin, x=\"Time of Day\", element=\"step\",bins=10)\n",
        "\n",
        "#Customizations\n",
        "ax.set_title(\"Distribution of Outliers in Tap out by Time of Day (hours)\", loc = \"center\",color='whitesmoke',weight='bold',size=20, backgroundcolor= 'darkslateblue')\n",
        "ax.set_ylabel(\"Count\",color='darkblue',weight='bold',size=15)\n",
        "ax.set_xlabel(\"Time of Day\",color='darkblue',weight='bold',size=15)\n",
        "ax.set_xticks(train_volume['Time of Day'].unique())\n",
        "\n",
        "# ax.set_xticks()\n",
        "ax.tick_params(axis='both', colors='black',size=12)"
      ],
      "metadata": {
        "id": "oJl3TVuaJmK8",
        "colab": {
          "base_uri": "https://localhost:8080/",
          "height": 513
        },
        "outputId": "e7f4cecc-98a8-4e10-d7ac-245c6847f285"
      },
      "execution_count": null,
      "outputs": [
        {
          "output_type": "display_data",
          "data": {
            "image/png": "[encoded data removed]",
            "text/plain": [
              "<Figure size 864x504 with 1 Axes>"
            ]
          },
          "metadata": {
            "needs_background": "light"
          }
        }
      ]
    },
    {
      "cell_type": "markdown",
      "source": [
        "#### Outilers in Hourly **Total commuter** Volume"
      ],
      "metadata": {
        "id": "fg2ZfnqxKD9r"
      }
    },
    {
      "cell_type": "code",
      "source": [
        "#Data Processing: Get Outlier values of specific column\n",
        "Q3 = train_volume[\"Total Commuters MRT\"].quantile(0.75)\n",
        "Q1 = train_volume[\"Total Commuters MRT\"].quantile(0.25)\n",
        "IQR = Q3 - Q1\n",
        "UpperFence = Q3 + 1.5 * IQR\n",
        "LowerFence = Q1 - 1.5 * IQR\n",
        "mask = (train_volume[\"Total Commuters MRT\"] > UpperFence) | (train_volume[\"Total Commuters MRT\"] < LowerFence)\n",
        "outlier_train_volume_total_commuters = train_volume[mask]\n",
        "\n",
        "#Plot\n",
        "fig, ax = plt.subplots(figsize = (12, 7), tight_layout = True)\n",
        "sns.histplot(outlier_train_volume_total_commuters, x=\"Time of Day\", element=\"step\",bins=12)\n",
        "\n",
        "#Customizations\n",
        "ax.set_title(\"Distribution of Outliers in Total Commuters MRT by Time of Day (hours)\", loc = \"center\",color='whitesmoke',weight='bold',size=20, backgroundcolor= 'darkslateblue')\n",
        "ax.set_ylabel(\"Count\",color='darkblue',weight='bold',size=15)\n",
        "ax.set_xlabel(\"Time of Day\",color='darkblue',weight='bold',size=15)\n",
        "ax.set_xticks(train_volume['Time of Day'].unique())\n",
        "\n",
        "# ax.set_xticks()\n",
        "ax.tick_params(axis='both', colors='black',size=12)"
      ],
      "metadata": {
        "id": "OCAvpT1lKDcp",
        "colab": {
          "base_uri": "https://localhost:8080/"
        },
        "outputId": "6cb1ed44-0ef0-40bc-e687-24e0fa778a41"
      },
      "execution_count": null,
      "outputs": [
        {
          "output_type": "display_data",
          "data": {
            "image/png": "[encoded data removed]",
            "text/plain": [
              "<Figure size 864x504 with 1 Axes>"
            ]
          },
          "metadata": {
            "needs_background": "light"
          }
        }
      ]
    },
    {
      "cell_type": "markdown",
      "source": [
        "### So which stations has the most outliers? \n",
        "\n",
        "ill be only using Total People for this comparism"
      ],
      "metadata": {
        "id": "nOnVQSpDMlSB"
      }
    },
    {
      "cell_type": "code",
      "source": [
        "# Data processing\n",
        "train_vol_bystations_outliers = outlier_train_volume_total_commuters.groupby('MRT STATION').size().nlargest(5)\n",
        "# ['Total Commuters MRT'].sort_values(by=['Total Commuters MRT'], ascending = False)\n",
        "\n",
        "train_vol_bystations_outliers.rename({\"EW24/NS1\":\"Jurong East\"})\n",
        "# 'CC,NS,SW,NE,EW'\n",
        "\n",
        "#ploting\n",
        "fig, ax = plt.subplots(figsize = (12, 7), tight_layout = True)\n",
        "sns.barplot(x=train_vol_bystations_outliers.index , y=train_vol_bystations_outliers.values)\n",
        "ax.set_title(\"Top 5 Stations of Outlier values\", loc = \"center\",color='whitesmoke',weight='bold',size=20, backgroundcolor= 'darkslateblue')\n",
        "# ax.set_xticklabels([\"Jurong East\",\"Orchard MRT\",'Paya Lebar MRT',\"Chinatown MRT\",\"Tampines MRT\"])\n",
        "\n",
        "#Annotations\n",
        "bbox = {\n",
        "    \"boxstyle\" : \"square,pad=0.3\",\n",
        "    \"fc\" : \"white\",\n",
        "    \"ec\" : \"dimgrey\"\n",
        "}\n",
        "mrt_stations_top_5 = [\"Jurong East\",\"Orchard MRT\",'Paya Lebar MRT',\"Chinatown MRT\",\"Tampines MRT\"]\n",
        "for x,y in zip([0,1,2,3,4],mrt_stations_top_5):\n",
        "  ax.text(s = f\"{y}\", x= x-0.21, y = -3, color = \"black\", bbox = bbox)\n",
        "\n",
        "ax.set_ylabel(\"count\",color='black',weight='bold',size=15)"
      ],
      "metadata": {
        "id": "XHyo-arFQLN9",
        "colab": {
          "base_uri": "https://localhost:8080/"
        },
        "outputId": "c8d0f952-9e83-4a30-f37e-3af71c6e9211"
      },
      "execution_count": null,
      "outputs": [
        {
          "output_type": "execute_result",
          "data": {
            "text/plain": [
              "Text(0, 0.5, 'count')"
            ]
          },
          "metadata": {},
          "execution_count": 15
        },
        {
          "output_type": "display_data",
          "data": {
            "image/png": "[encoded data removed]",
            "text/plain": [
              "<Figure size 864x504 with 1 Axes>"
            ]
          },
          "metadata": {
            "needs_background": "light"
          }
        }
      ]
    },
    {
      "cell_type": "markdown",
      "source": [
        "We can see that 4/5 of the top 5 Mrt stations that has outliers are Interchanges , and the only other station that's not a interchange is Orchard MRT which is located in the Heart of the CBD"
      ],
      "metadata": {
        "id": "kn0umNd_PL7q"
      }
    },
    {
      "cell_type": "markdown",
      "source": [
        "### Handling Outliers"
      ],
      "metadata": {
        "id": "oEpWHA4KScCW"
      }
    },
    {
      "cell_type": "code",
      "source": [
        "data = train_volume[['Total Commuters MRT','Hourly Tap Out Volume','Hourly Tap In Volume']]\n",
        "Q3 = data.quantile(0.75)\n",
        "Q1 = data.quantile(0.25)\n",
        "IQR = Q3 - Q1\n",
        "print(\"Shape Before Removing Outliers:\", data.shape)\n",
        "data = data[~((data < (Q1 - (1.5 * IQR))) | (data > (Q3 + (1.5 * IQR)))).any(axis=1)]\n",
        "print(\"Shape After Removing Outliers:\", data.shape)"
      ],
      "metadata": {
        "id": "Q3O9EJ0cSd3b",
        "colab": {
          "base_uri": "https://localhost:8080/"
        },
        "outputId": "b391e5b1-c7e8-43cb-eb2d-a8cf82bb22d0"
      },
      "execution_count": null,
      "outputs": [
        {
          "output_type": "stream",
          "name": "stdout",
          "text": [
            "Shape Before Removing Outliers: (6535, 3)\n",
            "Shape After Removing Outliers: (5639, 3)\n"
          ]
        }
      ]
    },
    {
      "cell_type": "markdown",
      "source": [
        "### Lets plot the box plot of the total commuters again"
      ],
      "metadata": {
        "id": "Qhxbpo5R1CGe"
      }
    },
    {
      "cell_type": "code",
      "source": [
        "# train_volume_melt= train_volume.melt(id_vars=['Year-Month','Day Type','MRT STATION','Time of Day'],value_vars=['Hourly Tap In Volume','Hourly Tap Out Volume','Total Commuters'] ,var_name='Type of Tap',value_name='People Volume Hourly')\n",
        "# train_volume_melt['Type of Tap'].replace({\"Hourly Tap In Volume\": \"Tap in\", \"Hourly Tap Out Volume\": \"Tap out\"}, inplace=True)\n",
        "# train_volume_melt\n",
        "\n",
        "\n",
        "# Plotting of graphs\n",
        "g = sns.catplot(y = \"Total Commuters MRT\", data = data, kind=\"box\", palette='Set2', height = 6, showmeans = True, meanprops = {\n",
        "    \"marker\" : \"s\",\n",
        "    \"markeredgecolor\" : \"gray\",\n",
        "    \"markerfacecolor\" : \"black\"\n",
        "}) # produce a boxplot, with mean also shown\n",
        "\n",
        "g.fig.suptitle(\"Box plot showing distribution of Total Commuters MRT\", weight = \"semibold\" ,size=20, backgroundcolor= 'darkslateblue' ,color='whitesmoke')\n",
        "g.fig.subplots_adjust(top = 0.88) # adjust position of title to not overlap with graph\n",
        "\n",
        "# plot.fig.supxlabel(weight = \"semibold\" ,size=17, backgroundcolor= 'darkslateblue' ,color='whitesmoke')\n",
        "# g.set(ylim=(0, 200000)) # Set y-limit to 200,000\n",
        "print(type(plot))\n",
        "plot.fig.subplots_adjust(top = 0.9) # adjust position of title to not overlap with graph\n",
        "# plot.ax.get_yaxis().get_major_formatter().set_scientific(False) # remove scientific notation for easier reading\n",
        "plt.show()\n",
        "# data.head()\n"
      ],
      "metadata": {
        "id": "MDHWr3cv1GN_",
        "colab": {
          "base_uri": "https://localhost:8080/",
          "height": 672
        },
        "outputId": "644d257a-0298-4c82-bff1-84c5cd75bebf"
      },
      "execution_count": null,
      "outputs": [
        {
          "output_type": "error",
          "ename": "NameError",
          "evalue": "ignored",
          "traceback": [
            "\u001b[0;31m---------------------------------------------------------------------------\u001b[0m",
            "\u001b[0;31mNameError\u001b[0m                                 Traceback (most recent call last)",
            "\u001b[0;32m<ipython-input-17-e75370d9a6e6>\u001b[0m in \u001b[0;36m<module>\u001b[0;34m()\u001b[0m\n\u001b[1;32m     16\u001b[0m \u001b[0;31m# plot.fig.supxlabel(weight = \"semibold\" ,size=17, backgroundcolor= 'darkslateblue' ,color='whitesmoke')\u001b[0m\u001b[0;34m\u001b[0m\u001b[0;34m\u001b[0m\u001b[0;34m\u001b[0m\u001b[0m\n\u001b[1;32m     17\u001b[0m \u001b[0;31m# g.set(ylim=(0, 200000)) # Set y-limit to 200,000\u001b[0m\u001b[0;34m\u001b[0m\u001b[0;34m\u001b[0m\u001b[0;34m\u001b[0m\u001b[0m\n\u001b[0;32m---> 18\u001b[0;31m \u001b[0mprint\u001b[0m\u001b[0;34m(\u001b[0m\u001b[0mtype\u001b[0m\u001b[0;34m(\u001b[0m\u001b[0mplot\u001b[0m\u001b[0;34m)\u001b[0m\u001b[0;34m)\u001b[0m\u001b[0;34m\u001b[0m\u001b[0;34m\u001b[0m\u001b[0m\n\u001b[0m\u001b[1;32m     19\u001b[0m \u001b[0mplot\u001b[0m\u001b[0;34m.\u001b[0m\u001b[0mfig\u001b[0m\u001b[0;34m.\u001b[0m\u001b[0msubplots_adjust\u001b[0m\u001b[0;34m(\u001b[0m\u001b[0mtop\u001b[0m \u001b[0;34m=\u001b[0m \u001b[0;36m0.9\u001b[0m\u001b[0;34m)\u001b[0m \u001b[0;31m# adjust position of title to not overlap with graph\u001b[0m\u001b[0;34m\u001b[0m\u001b[0;34m\u001b[0m\u001b[0m\n\u001b[1;32m     20\u001b[0m \u001b[0;31m# plot.ax.get_yaxis().get_major_formatter().set_scientific(False) # remove scientific notation for easier reading\u001b[0m\u001b[0;34m\u001b[0m\u001b[0;34m\u001b[0m\u001b[0;34m\u001b[0m\u001b[0m\n",
            "\u001b[0;31mNameError\u001b[0m: name 'plot' is not defined"
          ]
        },
        {
          "output_type": "display_data",
          "data": {
            "image/png": "[encoded data removed]",
            "text/plain": [
              "<Figure size 432x432 with 1 Axes>"
            ]
          },
          "metadata": {
            "needs_background": "light"
          }
        }
      ]
    },
    {
      "cell_type": "markdown",
      "source": [
        "Even though, removing outliers has reudecd the variance of the data, we will not be removing them as these outliers gives insights into the peak hours of MRT travel."
      ],
      "metadata": {
        "id": "IZ8YWZIF5rCi"
      }
    },
    {
      "cell_type": "markdown",
      "source": [
        "**Add one insights to dataset RMB TO DO THIS**"
      ],
      "metadata": {
        "id": "PakKPYry898J"
      }
    },
    {
      "cell_type": "code",
      "source": [
        ""
      ],
      "metadata": {
        "id": "JLnFe2Gc6Co2"
      },
      "execution_count": null,
      "outputs": []
    },
    {
      "cell_type": "markdown",
      "source": [
        "# **Dataset 2: transport_node_bus_202201**\n",
        "\n",
        "---\n",
        "\n"
      ],
      "metadata": {
        "id": "9Y6aiAl_6MnI"
      }
    },
    {
      "cell_type": "markdown",
      "source": [
        "## Load Dataset"
      ],
      "metadata": {
        "id": "ZAom5ilp6jUE"
      }
    },
    {
      "cell_type": "code",
      "source": [
        "bus_volume_dup = pd.read_csv('/content/transport_node_bus_202201.csv')\n",
        "bus_volume_dup.head()"
      ],
      "metadata": {
        "id": "INpcfvEC6pLS"
      },
      "execution_count": null,
      "outputs": []
    },
    {
      "cell_type": "markdown",
      "source": [
        "## Check for null values\n",
        "\n",
        "\n"
      ],
      "metadata": {
        "id": "GNArMVOg7kUa"
      }
    },
    {
      "cell_type": "code",
      "source": [
        "bus_volume_dup.isna().sum()"
      ],
      "metadata": {
        "id": "NY3pBqwp7kCg"
      },
      "execution_count": null,
      "outputs": []
    },
    {
      "cell_type": "markdown",
      "source": [
        "## Check for duplicates"
      ],
      "metadata": {
        "id": "7FViZQ2g8tfm"
      }
    },
    {
      "cell_type": "code",
      "source": [
        "print(f\"Shape before removal of dups: {bus_volume_dup.shape}\")\n",
        "bus_volume = bus_volume_dup.drop_duplicates()\n",
        "print(f\"Shape after removal of dups: {bus_volume.shape}\")"
      ],
      "metadata": {
        "id": "zHom9zbN8qfL"
      },
      "execution_count": null,
      "outputs": []
    },
    {
      "cell_type": "markdown",
      "source": [
        "Since the shape is the same. We can conclude that there is no duplicate values in dataset"
      ],
      "metadata": {
        "id": "nLTG_SYG9YhY"
      }
    },
    {
      "cell_type": "markdown",
      "source": [
        "## New column: Total Commuters\n",
        "- For further data analysis, we will create one new column: ```Total Commuters Bus```\n",
        "- They are defined as follows:\n",
        "  No. of people that tap in at a MRT station + No. people that tap out at a MRT station\n",
        "\n",
        "This will be used to tell how many people is at that particular station at a specific hour"
      ],
      "metadata": {
        "id": "6cr50bFi8uGo"
      }
    },
    {
      "cell_type": "code",
      "source": [
        "bus_volume['Total Commuters Bus'] = bus_volume['TOTAL_TAP_IN_VOLUME'] + bus_volume['TOTAL_TAP_OUT_VOLUME']"
      ],
      "metadata": {
        "id": "-7TQekh98xAM"
      },
      "execution_count": null,
      "outputs": []
    },
    {
      "cell_type": "markdown",
      "source": [
        "## **Rename** Columns features for easier understanding"
      ],
      "metadata": {
        "id": "R0msOZDC8xdC"
      }
    },
    {
      "cell_type": "code",
      "source": [
        "bus_volume.rename(columns = {\n",
        "    \"YEAR_MONTH\" : \"Year-Month\",\n",
        "    \"DAY_TYPE\" : \"Day Type\",\n",
        "    \"TIME_PER_HOUR\" : \"Time of Day\",\n",
        "    \"PT_TYPE\" : \"Transport Type\",\n",
        "    \"PT_CODE\" : \"Bus Stop Code\",\n",
        "    \"TOTAL_TAP_IN_VOLUME\" : \"Hourly Tap In Volume\",\n",
        "    \"TOTAL_TAP_OUT_VOLUME\" : \"Hourly Tap Out Volume\"\n",
        "}, inplace = True)\n",
        "bus_volume.head()"
      ],
      "metadata": {
        "id": "4WMvSgOm80nB"
      },
      "execution_count": null,
      "outputs": []
    },
    {
      "cell_type": "markdown",
      "source": [
        "We can see that the new column ```Total Commuters Bus``` Has been successfully created \n",
        "\n",
        "The Columns are also renamed to a format more understandable to end users\n",
        "\n",
        "E.g ```TOTAL_TAP_IN_VOLUME``` --> ```Hourly Tap In Volume```"
      ],
      "metadata": {
        "id": "zyBjKvSr9yV6"
      }
    },
    {
      "cell_type": "markdown",
      "source": [
        "## Descriptive Analysis"
      ],
      "metadata": {
        "id": "MctlhcYM83PD"
      }
    },
    {
      "cell_type": "code",
      "source": [
        "bus_volume.describe()"
      ],
      "metadata": {
        "id": "ZxxzIkW783mJ"
      },
      "execution_count": null,
      "outputs": []
    },
    {
      "cell_type": "code",
      "source": [
        "bus_volume.pivot_table(values = [\"Hourly Tap In Volume\",\"Hourly Tap Out Volume\"],index= \"Day Type\", aggfunc= [min, max, np.mean, np.median, np.std]) "
      ],
      "metadata": {
        "id": "ERDxegOU830m"
      },
      "execution_count": null,
      "outputs": []
    },
    {
      "cell_type": "markdown",
      "source": [
        "## Check + Correct Datatypes"
      ],
      "metadata": {
        "id": "E64LB60v84LB"
      }
    },
    {
      "cell_type": "code",
      "source": [
        "bus_volume.info()"
      ],
      "metadata": {
        "id": "D_xpiXAC87Jj"
      },
      "execution_count": null,
      "outputs": []
    },
    {
      "cell_type": "code",
      "source": [
        "bus_volume[\"Year-Month\"] = pd.to_datetime(train_volume[\"Year-Month\"])\n",
        "bus_volume.info()"
      ],
      "metadata": {
        "id": "PY0e_XpU87WI"
      },
      "execution_count": null,
      "outputs": []
    },
    {
      "cell_type": "markdown",
      "source": [
        "## Check for Outliers"
      ],
      "metadata": {
        "id": "kvWd_MpKAFiO"
      }
    },
    {
      "cell_type": "code",
      "source": [
        "# Data Processing\n",
        "bus_volume_melt= bus_volume.melt(id_vars=['Year-Month','Day Type','Bus Stop Code','Time of Day'],value_vars=['Hourly Tap In Volume','Hourly Tap Out Volume','Total Commuters Bus'] ,var_name='Type of Tap',value_name='People Volume Hourly')\n",
        "bus_volume_melt['Type of Tap'].replace({\"Hourly Tap In Volume\": \"Tap in\", \"Hourly Tap Out Volume\": \"Tap out\"}, inplace=True)\n",
        "bus_volume_melt\n",
        "\n",
        "\n",
        "# Plotting of graphs\n",
        "g = sns.catplot(x = \"People Volume Hourly\", col = \"Type of Tap\", data = bus_volume_melt, kind=\"box\", palette='Set2', height = 6,hue='Type of Tap', showmeans = True, meanprops = {\n",
        "    \"marker\" : \"s\",\n",
        "    \"markeredgecolor\" : \"gray\",\n",
        "    \"markerfacecolor\" : \"black\"\n",
        "}) # produce a boxplot, with mean also shown\n",
        "\n",
        "g.fig.suptitle(\"Box plot of Hourly Tap in/outs\", weight = \"semibold\" ,size=20, backgroundcolor= 'darkslateblue' ,color='whitesmoke')\n",
        "g.fig.subplots_adjust(top = 0.88) # adjust position of title to not overlap with graph\n",
        "\n",
        "# plot.fig.supxlabel(weight = \"semibold\" ,size=17, backgroundcolor= 'darkslateblue' ,color='whitesmoke')\n",
        "# g.set(ylim=(0, 20000)) # Set y-limit to 200,000\n",
        "print(type(plot))\n",
        "plot.fig.subplots_adjust(top = 0.9) # adjust position of title to not overlap with graph\n",
        "# plot.ax.get_yaxis().get_major_formatter().set_scientific(False) # remove scientific notation for easier reading\n",
        "plt.show()"
      ],
      "metadata": {
        "id": "vfq2f4raAJgH"
      },
      "execution_count": null,
      "outputs": []
    },
    {
      "cell_type": "markdown",
      "source": [
        "## Merge Bus commuter volumes and MRT commuter volumes into one dataset\n",
        "\n",
        "This Dataset will be used in the Final analysis for DAVI"
      ],
      "metadata": {
        "id": "R64rO-pWPxwV"
      }
    },
    {
      "cell_type": "code",
      "source": [
        "bus_volume.rename(columns= {\n",
        "    \"Total Commuters Bus\" : \"Total Commuters\",\n",
        "    \"Bus Stop Code\" : \"Station-Bus_stop_Location\",\n",
        "}, inplace= True)\n",
        "\n",
        "train_volume.rename(columns= {\n",
        "    \"Total Commuters MRT\" : \"Total Commuters\",\n",
        "    \"MRT STATION\" : \"Station-Bus_stop_Location\",\n",
        "}, inplace= True)\n",
        "# This is to ensure that the columns merge into one column together when concatinate\n",
        "\n",
        "bus_mrt_volume = pd.concat([bus_volume, train_volume], ignore_index= True)\n",
        "\n",
        "bus_mrt_volume"
      ],
      "metadata": {
        "id": "yfpMkckCQSSA"
      },
      "execution_count": null,
      "outputs": []
    },
    {
      "cell_type": "code",
      "source": [
        "print((bus_mrt_volume['Hourly Tap In Volume'] - bus_mrt_volume['Hourly Tap Out Volume']).sum())"
      ],
      "metadata": {
        "id": "i50YCdcT8siz"
      },
      "execution_count": null,
      "outputs": []
    },
    {
      "cell_type": "code",
      "source": [
        "# Export + download final dataset\n",
        "from google.colab import files\n",
        "bus_mrt_volume.to_csv('bus_mrt_volume.csv') \n",
        "files.download('bus_mrt_volume.csv')"
      ],
      "metadata": {
        "id": "5jC-Fz0NTDUM"
      },
      "execution_count": null,
      "outputs": []
    },
    {
      "cell_type": "markdown",
      "source": [
        "Have the overall ridership gone up in recent years?"
      ],
      "metadata": {
        "id": "DTlr5I2_3LQU"
      }
    },
    {
      "cell_type": "code",
      "source": [
        "# Data processing\n",
        "ridership['Mean Daily Ridership in millions'] = ridership['Mean Daily Ridership'] / 1000000 # Create new col that represents ridership in millions for easier understanding\n",
        "\n",
        "ridership_all_types = ridership.groupby('Year').sum() # Get all ridership across the 4 Public transport, \n",
        "\n",
        "#Plot Graph\n",
        "fig, ax = plt.subplots(figsize=(14,9))\n",
        "sns.barplot(data=ridership_all_types.loc['2000':'2016'],x=ridership_all_types.loc['2000':'2016'].index,y=\"Mean Daily Ridership in millions\" ,ax = ax , palette =\"ch:s=-.2,r=.6\") # Only used years 2000 and above\n",
        "\n",
        "# Customize\n",
        "ax.set_title(\"Distribution of Daily Ridership by Mode of Transport\", weight = \"semibold\" ,size=20, backgroundcolor= 'darkslateblue' ,color='whitesmoke')\n",
        "ax.text(10, -.505, \"*Includes all Transport types together (MRT,BUS,LRT,TAXI)  \", weight=\"light\", fontsize = 10)\n",
        "\n",
        "sns.despine(left = True)\n"
      ],
      "metadata": {
        "id": "EJsP39YQ3QFB"
      },
      "execution_count": null,
      "outputs": []
    },
    {
      "cell_type": "code",
      "source": [
        ""
      ],
      "metadata": {
        "id": "36CclIMV575X"
      },
      "execution_count": null,
      "outputs": []
    },
    {
      "cell_type": "markdown",
      "source": [
        "# Dataset Fares for MRT and LRT:"
      ],
      "metadata": {
        "id": "Nv7uAbdMF_En"
      }
    },
    {
      "cell_type": "markdown",
      "source": [
        "### Load Data:"
      ],
      "metadata": {
        "id": "Hgi1vATXQ88Q"
      }
    },
    {
      "cell_type": "code",
      "source": [
        "mrt_prices = pd.read_csv('/content/fares-for-mrt-and-lrt-effective-from-26-december-2021.csv')\n",
        "mrt_prices.head()"
      ],
      "metadata": {
        "id": "S3E9NNSLQjyg"
      },
      "execution_count": null,
      "outputs": []
    },
    {
      "cell_type": "markdown",
      "source": [
        "### New column: Distance_start\n",
        "- For further data analysis, we will create one new columns: ```Distance_Start```\n",
        "- They are defined as follows:\n",
        "  First value of distance column"
      ],
      "metadata": {
        "id": "6fLTRujHgr6i"
      }
    },
    {
      "cell_type": "code",
      "source": [
        "# mrt_prices['Distance_Start'] = mrt_prices['distance'].agg(re.search('\\d+', 'aa33bbb44'))\n",
        "\n",
        "# for i in mrt_prices.index:\n",
        "#     print(str(mrt_prices.at[i, 'distance'][::1]))\n",
        "#     mrt_prices.at[i, 'Distance_Startssss'] = re.search(r\"[\\d\\.\\d]\", str(mrt_prices.at[i, 'distance'][::1])).start()\n",
        "# mrt_prices.head()\n",
        "\n",
        "mrt_prices['distance_start'] = mrt_prices['distance'].str.extract(r'(\\d+.\\d+)').astype('float')\n",
        "mrt_prices.head()\n",
        "\n",
        "# mrt_prices['Distance_Startsss'].value_counts()"
      ],
      "metadata": {
        "id": "BNqoR4AtgriG"
      },
      "execution_count": null,
      "outputs": []
    },
    {
      "cell_type": "code",
      "source": [
        "mrt_prices.info()"
      ],
      "metadata": {
        "id": "O1sBHzSJRB1_"
      },
      "execution_count": null,
      "outputs": []
    },
    {
      "cell_type": "markdown",
      "source": [
        "### Check for duplicates ( come back to this maybe )"
      ],
      "metadata": {
        "id": "hVehII5BoGw6"
      }
    },
    {
      "cell_type": "code",
      "source": [
        "# mrt_prices.duplicated(subset='fare_per_ride', keep='first').sum()\n",
        "print(f\"Shape before removal of dups: {mrt_prices.shape}\")\n",
        "mrt_prices = mrt_prices.drop_duplicates()\n",
        "print(f\"Shape after removal of dups: {mrt_prices.shape}\")"
      ],
      "metadata": {
        "id": "Ut9BKlaXoJvG"
      },
      "execution_count": null,
      "outputs": []
    },
    {
      "cell_type": "markdown",
      "source": [
        "### Renaming Features\n",
        "\n",
        "It seems like the desciptions for the fare type is abit to lengthy, lets shorten it. \n",
        "\n",
        "Changed value names:\n",
        "\n",
        "*   ```Adult card fare``` --> ```Adult```\n",
        "*   ```Senior citizen card fare``` --> ```Senior_Citizen```\n",
        "*   ```Student card fare``` --> ```Student```\n",
        "*   ```Workfare transport concession card fare``` --> ```Workfare_Concession```\n",
        "*   ```Persons with diabilities card fare``` --> ```Persons_with_diabilities```\n",
        "\n"
      ],
      "metadata": {
        "id": "8LcZIAapaqBH"
      }
    },
    {
      "cell_type": "code",
      "source": [
        "mrt_prices['fare_type'].replace({\"Adult card fare\": \"Adult\", \"Senior citizen card fare\": \"Senior\",\"Student card fare\": \"Student\", \"Workfare transport concession card fare\": \"Workfare Concession\",\"Persons with diabilities card fare\": \"Diabilities\"}, inplace=True)\n",
        "mrt_prices['fare_type'].unique()"
      ],
      "metadata": {
        "id": "DQ_ZL2v1afEn"
      },
      "execution_count": null,
      "outputs": []
    },
    {
      "cell_type": "markdown",
      "source": [
        "### Descriptive Analysis"
      ],
      "metadata": {
        "id": "Nzu0uXzFRnAd"
      }
    },
    {
      "cell_type": "code",
      "source": [
        "mrt_prices.describe()"
      ],
      "metadata": {
        "id": "kYY_XKP5RgGf"
      },
      "execution_count": null,
      "outputs": []
    },
    {
      "cell_type": "code",
      "source": [
        "mrt_prices.pivot_table(values = \"fare_per_ride\",index= \"fare_type\", aggfunc= [min, max, np.mean, np.median, np.std]) "
      ],
      "metadata": {
        "id": "qgwi5vWDRxVY"
      },
      "execution_count": null,
      "outputs": []
    },
    {
      "cell_type": "markdown",
      "source": [
        "### Check missing Values:\n",
        "No Missing Values in this dataset"
      ],
      "metadata": {
        "id": "ogPO1JMySJEB"
      }
    },
    {
      "cell_type": "code",
      "source": [
        "mrt_prices.isna().sum()"
      ],
      "metadata": {
        "id": "f_hOHJS1SLmz"
      },
      "execution_count": null,
      "outputs": []
    },
    {
      "cell_type": "markdown",
      "source": [
        "### **Check for Outliers**"
      ],
      "metadata": {
        "id": "oDQwrSq_SV_Y"
      }
    },
    {
      "cell_type": "code",
      "source": [
        "g =    sns.boxplot(y = 'fare_per_ride',data =mrt_prices , orient= \"h\")\n",
        "sns.despine(left = True)\n",
        "plt.title(f\"Box Plot of Fare Per Ride\", fontdict = {\n",
        "        \"weight\" : \"semibold\" })\n",
        "plt.show()"
      ],
      "metadata": {
        "id": "_rU9o0diSWrB"
      },
      "execution_count": null,
      "outputs": []
    },
    {
      "cell_type": "markdown",
      "source": [
        "From the data, we can see that there is no overall outlier values, however is that the case for all fare types?\n",
        "\n",
        "Since ```Fare type``` --> ```Single trip``` is not affected by Before 7.45 discount , we shall plot it seperately from the other ```Fare Types```.\n",
        "\n"
      ],
      "metadata": {
        "id": "_lLaoNs7Sog6"
      }
    },
    {
      "cell_type": "code",
      "source": [
        "# Data Preprocessing\n",
        "mrt_prices_all_other_fare_types = mrt_prices[mrt_prices['fare_type'].isin(['Adult', 'Senior', 'Student','Workfare Concession', 'Persons_with_diabilities'])]\n",
        "\n",
        "# fig, ax = plt.subplots(figsize = (9, 5), tight_layout = True)\n",
        "sns.set_style(\"darkgrid\", {\"axes.facecolor\": \".7\"})\n",
        "\n",
        "g = sns.catplot(data=mrt_prices_all_other_fare_types,x=\"fare_type\",y='fare_per_ride',kind='box',col=\"applicable_time\")\n",
        "plt.suptitle(\"Distribution of Fare_Per_Ride by fare type\", weight = \"semibold\")\n",
        "plt.subplots_adjust(top = 0.9) # adjust position of title to not overlap with graph\n",
        "g.set_xticklabels(rotation=90, horizontalalignment='right')\n",
        "# ax.set_ylabel(\"Fare per ride (cents)\",color='darkblue',weight='bold',size=8)\n",
        "g.set_ylabels(\"Fare per ride (cents)\",color='darkblue',weight='bold',size=15)\n",
        "\n",
        "plt.show()"
      ],
      "metadata": {
        "id": "cEc06xzASlx1"
      },
      "execution_count": null,
      "outputs": []
    },
    {
      "cell_type": "code",
      "source": [
        "# Data processing\n",
        "mrt_prices_single_trip = mrt_prices[mrt_prices['fare_type']==\"Single trip\"]\n",
        "print(mrt_prices_single_trip.head())\n",
        "\n",
        "# Plotting\n",
        "g = sns.catplot(data=mrt_prices_single_trip,x=\"fare_type\",y='fare_per_ride',kind='box')\n",
        "\n",
        "\n",
        "plt.suptitle(\"Distribution of Fare Per Ride by Single Trip\", weight = \"semibold\")\n",
        "plt.subplots_adjust(top = 0.9) # adjust position of title to not overlap with graph\n",
        "# g.set_xticklabels( horizontalalignment='right')\n",
        "# ax.set_ylabel(\"Fare per ride (cents)\",color='darkblue',weight='bold',size=8)\n",
        "g.set_ylabels(\"Fare per ride (cents)\",color='darkblue',weight='bold',size=15)\n",
        "\n",
        "# ADD ANNOTATIONS For Outlier values\n",
        "plt.show()\n"
      ],
      "metadata": {
        "id": "NlkjDLc3dtvi"
      },
      "execution_count": null,
      "outputs": []
    },
    {
      "cell_type": "markdown",
      "source": [
        "We See that there are two outliers, one at 150 cents and "
      ],
      "metadata": {
        "id": "fPmfJ61ZNB6C"
      }
    },
    {
      "cell_type": "markdown",
      "source": [
        "### How many levels of distance range are there?"
      ],
      "metadata": {
        "id": "kGYBUaJvrNwg"
      }
    },
    {
      "cell_type": "code",
      "source": [
        "mrt_prices['distance'].unique()\n",
        "print(f\"There are {len(mrt_prices['distance'].unique())} ranges of distances.\\nThey are: \\n{mrt_prices['distance'].unique()}\")"
      ],
      "metadata": {
        "id": "dtc9APhErTij"
      },
      "execution_count": null,
      "outputs": []
    },
    {
      "cell_type": "markdown",
      "source": [
        "Lets take a quick look at how to variables correlate to each other"
      ],
      "metadata": {
        "id": "MP2UKygqUCOa"
      }
    },
    {
      "cell_type": "code",
      "source": [
        "# fig, ax2 = plt.subplots(figsize=(10,8))\n",
        "\n",
        "sns.pairplot(data=mrt_prices,vars=[\"fare_per_ride\",'distance_start'],hue='fare_type',diag_kws={'alpha':.5},palette='Set2')"
      ],
      "metadata": {
        "id": "Gya-CHJ4UHL5"
      },
      "execution_count": null,
      "outputs": []
    },
    {
      "cell_type": "markdown",
      "source": [
        "How are the starting prices distributed by fare type?"
      ],
      "metadata": {
        "id": "36Vin6Ag7G-J"
      }
    },
    {
      "cell_type": "code",
      "source": [
        "# Data processing\n",
        "mrt_prices_start = mrt_prices[mrt_prices['distance_start'] == 3.2]\n",
        "mrt_prices_start.head()\n",
        "\n",
        "g= sns.catplot(kind='bar',data=mrt_prices,x=\"fare_type\",y=\"fare_per_ride\",col=\"applicable_time\",ci=False)\n",
        "\n",
        "ax = g.facet_axis(0,0)\n",
        "for p in ax.patches:\n",
        "    ax.text(p.get_x() - 0.01, \n",
        "            p.get_height() * 1.02, \n",
        "           '{0:.1f}K'.format(p.get_height()/1000),   #Used to format it K representation\n",
        "            color='black', \n",
        "            rotation='horizontal', \n",
        "            size='large')\n",
        "g.set_xticklabels(rotation=90, horizontalalignment='right')\n",
        "\n",
        "plt.legend()\n",
        "plt.show()"
      ],
      "metadata": {
        "id": "wKTxuMWP7NlT"
      },
      "execution_count": null,
      "outputs": []
    },
    {
      "cell_type": "markdown",
      "source": [
        "#### What Is the a relationship between fair price and distance travelled by mrt?"
      ],
      "metadata": {
        "id": "469vYrth_4xW"
      }
    },
    {
      "cell_type": "code",
      "source": [
        "#plotting of graph\n",
        "sns.set_style('whitegrid')\n",
        "with sns.axes_style(\"ticks\", { \"font.family\" : \"Lato\"}):\n",
        "  g = sns.lmplot(data=mrt_prices,x='distance_start',y='fare_per_ride',col=\"applicable_time\",hue='fare_type')\n",
        "  g.fig.suptitle(\"What is the correlation between distance travelled by mrt and fair price?\", weight = \"semibold\")\n",
        "  g.fig.subplots_adjust(top = 0.85) \n",
        "  g.set_titles(col_template =\"{col_name}\")\n",
        "  g.legend.set_frame_on(True)\n",
        "\n",
        "plt.show()\n",
        "plt.clf()"
      ],
      "metadata": {
        "id": "NQ2efJklEiiU"
      },
      "execution_count": null,
      "outputs": []
    },
    {
      "cell_type": "code",
      "source": [
        "# from google.colab import files\n",
        "# mrt_prices.to_csv('mrt_prices.csv') \n",
        "# files.download('mrt_prices.csv')\n",
        "mrt_prices"
      ],
      "metadata": {
        "id": "jIO9yd8BK_tW"
      },
      "execution_count": null,
      "outputs": []
    },
    {
      "cell_type": "markdown",
      "source": [
        "## Dataset 3: fares-for-express-bus-services-effective-from-26-december-2021"
      ],
      "metadata": {
        "id": "2a1OiC2IAWLj"
      }
    },
    {
      "cell_type": "markdown",
      "source": [
        "### Load Dataset"
      ],
      "metadata": {
        "id": "P-YZ1zrrCnOc"
      }
    },
    {
      "cell_type": "code",
      "source": [
        "bus_prices_express= pd.read_csv('/content/fares-for-express-bus-services-effective-from-26-december-2021.csv')\n",
        "bus_prices_express.head()"
      ],
      "metadata": {
        "id": "OWCm6ufeFmtK"
      },
      "execution_count": null,
      "outputs": []
    },
    {
      "cell_type": "markdown",
      "source": [
        "### Check for null values"
      ],
      "metadata": {
        "id": "9KVt4ThgUWfP"
      }
    },
    {
      "cell_type": "code",
      "source": [
        "bus_prices_express.isna().sum()"
      ],
      "metadata": {
        "id": "w1Su08slUY4v"
      },
      "execution_count": null,
      "outputs": []
    },
    {
      "cell_type": "markdown",
      "source": [
        "### Check + drop duplicates"
      ],
      "metadata": {
        "id": "WNfdMWEYUcqG"
      }
    },
    {
      "cell_type": "code",
      "source": [
        "print(f\"Shape before removal of dups: {bus_prices_express.shape}\")\n",
        "bus_prices_express = bus_prices_express.drop_duplicates()\n",
        "print(f\"Shape after removal of dups: {bus_prices_express.shape}\")"
      ],
      "metadata": {
        "id": "mzLKxifeUhqu"
      },
      "execution_count": null,
      "outputs": []
    },
    {
      "cell_type": "code",
      "source": [
        "bus_prices_express.shape"
      ],
      "metadata": {
        "id": "kw32KTmRTo8b"
      },
      "execution_count": null,
      "outputs": []
    },
    {
      "cell_type": "markdown",
      "source": [
        "### New column: Distance Travelled\n",
        "- For further data analysis, we will create one new columns: ```Distance Travelled```\n",
        "- They are defined as follows:\n",
        "  First value of distance column"
      ],
      "metadata": {
        "id": "8-JRmjWCVx3_"
      }
    },
    {
      "cell_type": "markdown",
      "source": [
        "#### How many levels of distance range are there?"
      ],
      "metadata": {
        "id": "HGVcywHvWKKn"
      }
    },
    {
      "cell_type": "code",
      "source": [
        "bus_prices_express['distance'].unique()\n",
        "print(f\"There are {len(bus_prices_express['distance'].unique())} ranges of distances.\\nThey are: \\n{bus_prices_express['distance'].unique()}\")"
      ],
      "metadata": {
        "id": "KPTQ-pSOWJ1V"
      },
      "execution_count": null,
      "outputs": []
    },
    {
      "cell_type": "markdown",
      "source": [
        "We can see that both Buses and MRT uses the same distance range to caculate the prices of travel fares"
      ],
      "metadata": {
        "id": "vlBsuX6bWf3J"
      }
    },
    {
      "cell_type": "code",
      "source": [
        "# Add new column: Distanced Travelled\n",
        "bus_prices_express['Distance Travelled'] = bus_prices_express['distance'].str.extract(r'(\\d+.\\d+)').astype('float')\n",
        "bus_prices_express.head()\n"
      ],
      "metadata": {
        "id": "c15QK_EqV6HB"
      },
      "execution_count": null,
      "outputs": []
    },
    {
      "cell_type": "markdown",
      "source": [
        "### Renaming Features\n",
        "\n",
        "It seems like the desciptions for the fare type is abit to lengthy, lets shorten it. \n",
        "\n",
        "Changed value names:\n",
        "\n",
        "*   ```cash_fare_per_ride``` --> ```Cash```\n",
        "*   ```adult_card_fare_per_ride``` --> ```Adult```\n",
        "*   ```senior_citizen_card_fare_per_ride``` --> ```Senior```\n",
        "*   ```student_card_fare_per_ride\t``` --> ```Student```\n",
        "*   ```workfare_transport_concession_card_fare_per_ride``` --> ```Workfare Transport```\n",
        "*   ```persons_with_disabilities_card_fare_per_ride\t``` --> ```Disabilities```\n"
      ],
      "metadata": {
        "id": "b3q4LZ3ZXicM"
      }
    },
    {
      "cell_type": "code",
      "source": [
        "print(bus_prices_express.head())\n",
        "bus_prices_express.rename(columns= {\n",
        "    \"distance\":\"Distance\",\n",
        "    \"cash_fare_per_ride\" : \"Cash\",\n",
        "    \"adult_card_fare_per_ride\" : \"Adult\",\n",
        "    \"senior_citizen_card_fare_per_ride\" : \"Senior\",\n",
        "    \"student_card_fare_per_ride\" : \"Student\",\n",
        "    \"persons_with_disabilities_card_fare_per_ride\" : \"Disabilities\",\n",
        "    \"workfare_transport_concession_card_fare_per_ride\" : \"Workfare Concession\"\n",
        "\n",
        "}, inplace= True)\n",
        "\n",
        "bus_prices_express.columns"
      ],
      "metadata": {
        "id": "pahmwSPXbIE0"
      },
      "execution_count": null,
      "outputs": []
    },
    {
      "cell_type": "markdown",
      "source": [
        "### Descriptive Analysis"
      ],
      "metadata": {
        "id": "YGh8dX1sWwZx"
      }
    },
    {
      "cell_type": "code",
      "source": [
        "bus_prices_express.describe()"
      ],
      "metadata": {
        "id": "Wafz-evxWxX9"
      },
      "execution_count": null,
      "outputs": []
    },
    {
      "cell_type": "code",
      "source": [
        "bus_prices_express.sort_values(by=[\"Distance Travelled\"], inplace = True)\n",
        "# print(bus_prices_express.head())\n",
        "bus_prices_express_melt = bus_prices_express.melt(id_vars=[\"Distance\"],value_vars=['Cash', 'Adult', 'Senior', 'Student', 'Workfare Concession','Disabilities'],var_name='Type of card',value_name='Price per fare (express)')\n",
        "\n",
        "bus_prices_express_melt.pivot_table(values = \"Price per fare (express)\",index= \"Distance\", aggfunc= [min, max, np.mean, np.median, np.std]) "
      ],
      "metadata": {
        "id": "7QmviB-BW3H6"
      },
      "execution_count": null,
      "outputs": []
    },
    {
      "cell_type": "code",
      "source": [
        "bus_prices_express_melt.head()"
      ],
      "metadata": {
        "id": "N527atP4kdTP"
      },
      "execution_count": null,
      "outputs": []
    },
    {
      "cell_type": "markdown",
      "source": [
        "### Check for Outliers"
      ],
      "metadata": {
        "id": "kp-026Tdh0rS"
      }
    },
    {
      "cell_type": "code",
      "source": [
        "# Plotting of graphs\n",
        "plot = sns.catplot(y = \"Price per fare (express)\", x = \"Type of card\", data = bus_prices_express_melt, kind=\"box\", height = 6, showmeans = True, meanprops = {\n",
        "    \"marker\" : \"s\",\n",
        "    \"markeredgecolor\" : \"gray\",\n",
        "    \"markerfacecolor\" : \"black\"\n",
        "}) # produce a boxplot, with mean also shown\n",
        "plot.fig.suptitle(\"Distribution of Price per fare by Type of card\", weight = \"semibold\" ,size=20, backgroundcolor= 'darkslateblue' ,color='whitesmoke')\n",
        "# plot.fig.supxlabel(weight = \"semibold\" ,size=17, backgroundcolor= 'darkslateblue' ,color='whitesmoke')\n",
        "\n",
        "print(type(plot))\n",
        "plot.fig.subplots_adjust(top = 0.9) # adjust position of title to not overlap with graph\n",
        "plot.ax.get_yaxis().get_major_formatter().set_scientific(False) # remove scientific notation for easier reading\n",
        "plt.show()"
      ],
      "metadata": {
        "id": "8qcv91m3kNbC"
      },
      "execution_count": null,
      "outputs": []
    },
    {
      "cell_type": "markdown",
      "source": [
        "It seems like there is outlier values for Senior citizens, Student and People with disabilities, Lets take a closer look"
      ],
      "metadata": {
        "id": "tABGibA1lBPi"
      }
    },
    {
      "cell_type": "code",
      "source": [
        "# Data processing\n",
        "bus_prices_Senior_student_disa = bus_prices_express_melt[bus_prices_express_melt['Type of card'].isin([\"Senior\",\"Student\",\"Disabilities\"])]\n",
        "fig, ax2 = plt.subplots(figsize=(10,8))\n",
        "\n",
        "sns.violinplot(x=\"Type of card\", y=\"Price per fare (express)\",\n",
        "                data=bus_prices_Senior_student_disa, ax=ax2\n",
        "                )\n",
        "ax2.set(title=\"Distribution of Price per fare by Type of card\")"
      ],
      "metadata": {
        "id": "NgYgL47RlQiu"
      },
      "execution_count": null,
      "outputs": []
    },
    {
      "cell_type": "markdown",
      "source": [
        "Since Student, Senior and Disabilities prices are capped at a specific amount after a certain distance travelled , smt smt"
      ],
      "metadata": {
        "id": "D4oOLxuznZZ5"
      }
    },
    {
      "cell_type": "markdown",
      "source": [
        "Vilion plot for differnent types"
      ],
      "metadata": {
        "id": "mmr27QuZFfuU"
      }
    },
    {
      "cell_type": "markdown",
      "source": [
        "## Dataset 3.5: fares-for-trunk-bus-services-effective-from-26-december-2021"
      ],
      "metadata": {
        "id": "MjQiwiVQR8eE"
      }
    },
    {
      "cell_type": "markdown",
      "source": [
        "### Load Dataset"
      ],
      "metadata": {
        "id": "5zXBCB7sSBef"
      }
    },
    {
      "cell_type": "code",
      "source": [
        "bus_prices_trunk= pd.read_csv('/content/fares-for-trunk-bus-services-effective-from-26-december-2021.csv')\n",
        "bus_prices_trunk.head()"
      ],
      "metadata": {
        "id": "RAbJ4zEFSBBf"
      },
      "execution_count": null,
      "outputs": []
    },
    {
      "cell_type": "markdown",
      "source": [
        "### subset the data to only card related fares and not cash"
      ],
      "metadata": {
        "id": "2V8f3UedpeIq"
      }
    },
    {
      "cell_type": "code",
      "source": [
        "bus_prices_trunk.drop(['senior_citizen_cash_fare_per_ride','student_cash_fare_per_ride','workfare_transport_concession_cash_fare_per_ride','persons_with_disabilities_cash_fare_per_ride'], axis = 1, inplace = True) \n",
        "bus_prices_trunk.head()"
      ],
      "metadata": {
        "id": "yUtg4yXGpm1Q"
      },
      "execution_count": null,
      "outputs": []
    },
    {
      "cell_type": "markdown",
      "source": [
        "### Renaming Features\n",
        "\n",
        "It seems like the desciptions for the fare type is abit to lengthy, lets shorten it. \n",
        "\n",
        "Changed value names:\n",
        "\n",
        "*   ```cash_fare_per_ride``` --> ```Cash```\n",
        "*   ```adult_card_fare_per_ride``` --> ```Adult```\n",
        "*   ```senior_citizen_card_fare_per_ride``` --> ```Senior```\n",
        "*   ```student_card_fare_per_ride\t``` --> ```Student```\n",
        "*   ```workfare_transport_concession_card_fare_per_ride``` --> ```Workfare Transport```\n",
        "*   ```persons_with_disabilities_card_fare_per_ride\t``` --> ```Disabilities```"
      ],
      "metadata": {
        "id": "L6DOYGuJIdol"
      }
    },
    {
      "cell_type": "code",
      "source": [
        "bus_prices_trunk.rename(columns= {\n",
        "    \"distance\":\"Distance\",\n",
        "    \"adult_cash_fare_per_ride\" : \"Cash\",\n",
        "    \"adult_card_fare_per_ride\" : \"Adult\",\n",
        "    \"senior_citizen_card_fare_per_ride\" : \"Senior\",\n",
        "    \"student_card_fare_per_ride\" : \"Student\",\n",
        "    \"persons_with_disabilities_card_fare_per_ride\" : \"Disabilities\",\n",
        "    \"workfare_transport_concession_card_fare_per_ride\" : \"Workfare Transport\"\n",
        "\n",
        "}, inplace= True)"
      ],
      "metadata": {
        "id": "k9hQ5BMeIagE"
      },
      "execution_count": null,
      "outputs": []
    },
    {
      "cell_type": "code",
      "source": [
        "bus_prices_trunk.shape\n",
        "print(bus_prices_trunk.columns)"
      ],
      "metadata": {
        "id": "rVB_bQMUTlNt"
      },
      "execution_count": null,
      "outputs": []
    },
    {
      "cell_type": "code",
      "source": [
        "bus_prices_trunk_melt = bus_prices_trunk.melt(id_vars=[\"Distance\"],value_vars=['Adult', 'Cash', 'Senior', 'Student', 'Workfare Transport','Disabilities',],var_name='Type of card',value_name='Price per fare trunk')\n"
      ],
      "metadata": {
        "id": "V49UWbOuEYw-"
      },
      "execution_count": null,
      "outputs": []
    },
    {
      "cell_type": "markdown",
      "source": [
        "## Merge Express Bus dataset and Trunk Bus Dataset"
      ],
      "metadata": {
        "id": "dVHBO277qF1b"
      }
    },
    {
      "cell_type": "code",
      "source": [
        "# # merge Bus data\n",
        "\n",
        "\n",
        "\n",
        "# # Add new column for express and trunk data\n",
        "# group = []\n",
        "# for e in range(0,len(bus_prices_express_melt['Distance'])):\n",
        "#   group.append(\"Express\")\n",
        "\n",
        "# bus_prices_express_melt['Type of bus'] = group\n",
        "\n",
        "# group2 = []\n",
        "# for e in range(0,len(bus_prices_express_melt['Distance'])):\n",
        "#   group2.append(\"Trunk\")\n",
        "\n",
        "# bus_prices_express_melt['Type of bus'] = group\n",
        "# bus_prices_trunk_melt['Type of bus'] = group2\n",
        "\n",
        "# merge all the datasets based Distance and Type of card columns\n",
        "bus_prices_untidy = pd.merge(bus_prices_express_melt, bus_prices_trunk_melt,  how='left', left_on=['Distance','Type of card'], right_on = ['Distance','Type of card'])\n",
        "\n",
        "\n",
        "\n",
        "bus_prices_untidy\n"
      ],
      "metadata": {
        "id": "MG0IBA-IqMgp"
      },
      "execution_count": null,
      "outputs": []
    },
    {
      "cell_type": "markdown",
      "source": [
        "Now that we have a merged dataset, lets tidy up the data even more."
      ],
      "metadata": {
        "id": "ow6lPqMpJjHx"
      }
    },
    {
      "cell_type": "code",
      "source": [
        "bus_prices= bus_prices_untidy.melt(id_vars=['Distance','Type of card'] ,var_name='Type of bus',value_name='Fare per Trip')\n",
        "bus_prices['Type of bus'].replace({\"Price per fare (express)\": \"Express\", \"Price per fare trunk\": \"Trunk\"}, inplace=True)\n",
        "\n",
        "bus_prices"
      ],
      "metadata": {
        "id": "5MyBcm41In7S"
      },
      "execution_count": null,
      "outputs": []
    },
    {
      "cell_type": "markdown",
      "source": [
        "### Check for null values"
      ],
      "metadata": {
        "id": "Hyv6DCw_d4k8"
      }
    },
    {
      "cell_type": "code",
      "source": [
        "bus_prices.isna().sum()"
      ],
      "metadata": {
        "id": "NetObJqxd4MV"
      },
      "execution_count": null,
      "outputs": []
    },
    {
      "cell_type": "markdown",
      "source": [
        "### Check + drop duplicates"
      ],
      "metadata": {
        "id": "tYF1q55jd9YW"
      }
    },
    {
      "cell_type": "code",
      "source": [
        "print(f\"Shape before removal of dups: {bus_prices.shape}\")\n",
        "bus_prices = bus_prices.drop_duplicates()\n",
        "print(f\"Shape after removal of dups: {bus_prices.shape}\")"
      ],
      "metadata": {
        "id": "GM9Pvb7-d_zE"
      },
      "execution_count": null,
      "outputs": []
    },
    {
      "cell_type": "markdown",
      "source": [
        "### New column: Distance Travelled\n",
        "- For further data analysis, we will create one new columns: ```Distance Travelled```\n",
        "- They are defined as follows:\n",
        "  First value of distance column"
      ],
      "metadata": {
        "id": "I35l8cwGeIuW"
      }
    },
    {
      "cell_type": "markdown",
      "source": [
        "#### How many levels of distance range are there?"
      ],
      "metadata": {
        "id": "3SnHg80NeLwO"
      }
    },
    {
      "cell_type": "code",
      "source": [
        "bus_prices['Distance'].unique()\n",
        "print(f\"There are {len(bus_prices_express['Distance'].unique())} ranges of distances.\\nThey are: \\n{bus_prices_express['Distance'].unique()}\")"
      ],
      "metadata": {
        "id": "hZ8gg_7NeLWN"
      },
      "execution_count": null,
      "outputs": []
    },
    {
      "cell_type": "markdown",
      "source": [
        "We can see that both Buses and MRT uses the same distance range to caculate the prices of travel fares"
      ],
      "metadata": {
        "id": "tuF3VcFoeT0C"
      }
    },
    {
      "cell_type": "code",
      "source": [
        "# Add new column: Distanced Travelled\n",
        "bus_prices['Distance Travelled'] = bus_prices['Distance'].str.extract(r'(\\d+.\\d+)').astype('float')\n",
        "bus_prices.head()"
      ],
      "metadata": {
        "id": "Gk_jN6JvePNN"
      },
      "execution_count": null,
      "outputs": []
    },
    {
      "cell_type": "markdown",
      "source": [
        "### Descriptive Analysis"
      ],
      "metadata": {
        "id": "fCrK-3cLfwix"
      }
    },
    {
      "cell_type": "code",
      "source": [
        "bus_prices.describe()"
      ],
      "metadata": {
        "id": "Dqu0H4dPf0M7"
      },
      "execution_count": null,
      "outputs": []
    },
    {
      "cell_type": "code",
      "source": [
        "bus_prices.sort_values(by=[\"Distance Travelled\"], inplace = True)\n",
        "# print(bus_prices_express.head())\n",
        "# bus_prices_express_melt = bus_prices_express.melt(id_vars=[\"Distance\"],value_vars=['Cash', 'Adult', 'Senior', 'Student', 'Workfare Transport','Disabilities'],var_name='Type of card',value_name='Price per fare (express)')\n",
        "\n",
        "bus_prices.pivot_table(values = \"Fare per Trip\",index= \"Distance\", aggfunc= [min, max, np.mean, np.median, np.std]) "
      ],
      "metadata": {
        "id": "N5hQStiDf1Os"
      },
      "execution_count": null,
      "outputs": []
    },
    {
      "cell_type": "markdown",
      "source": [
        "### Check for Outliers"
      ],
      "metadata": {
        "id": "GOWxJFmmf6aN"
      }
    },
    {
      "cell_type": "code",
      "source": [
        "# Plotting of graphs\n",
        "plot = sns.catplot(y = \"Fare per Trip\", x = \"Type of card\", data = bus_prices, kind=\"box\", col = \"Type of bus\",height = 6, showmeans = True, meanprops = {\n",
        "    \"marker\" : \"s\",\n",
        "    \"markeredgecolor\" : \"gray\",\n",
        "    \"markerfacecolor\" : \"black\"\n",
        "}) # produce a boxplot, with mean also shown\n",
        "plot.fig.suptitle(\"Distribution of Fare per Trip by Type of card\", weight = \"semibold\" ,size=20, backgroundcolor= 'darkslateblue' ,color='whitesmoke')\n",
        "# plot.fig.supxlabel(weight = \"semibold\" ,size=17, backgroundcolor= 'darkslateblue' ,color='whitesmoke')\n",
        "\n",
        "print(type(plot))\n",
        "plot.fig.subplots_adjust(top = 0.88) # adjust position of title to not overlap with graph\n",
        "# plot.axes.get_yaxis().get_major_formatter().set_scientific(False) # remove scientific notation for easier reading\n",
        "plt.show()"
      ],
      "metadata": {
        "id": "jBvlaajxjZK9"
      },
      "execution_count": null,
      "outputs": []
    },
    {
      "cell_type": "markdown",
      "source": [
        "There is no outliers for Adult,Workfare Transport for both types of buses.\n",
        "\n",
        "However there seems to be multiple outliers for Students, Seniors and people with Disabilities with no box. Lets take a deeper look to find out what's going on OIIIIIII ADD ANNOTATIONS KAYYY"
      ],
      "metadata": {
        "id": "Mm4WbHIaldXJ"
      }
    },
    {
      "cell_type": "code",
      "source": [
        "# Data processing\n",
        "bus_prices_Senior_student_disa = bus_prices[bus_prices['Type of card'].isin([\"Senior\",\"Student\",\"Disabilities\"])]\n",
        "# fig, ax2 = plt.subplots(figsize=(10,8))\n",
        "\n",
        "#plot\n",
        "plot = sns.catplot(y = \"Fare per Trip\", x = \"Type of card\", data = bus_prices_Senior_student_disa, kind=\"violin\", col = \"Type of bus\",col_order=['Express',\"Trunk\"],height = 6, showmeans = True, meanprops = {\n",
        "    \"marker\" : \"s\",\n",
        "    \"markeredgecolor\" : \"gray\",\n",
        "    \"markerfacecolor\" : \"black\"\n",
        "})\n",
        "\n",
        "# Customizing\n",
        "plot.fig.suptitle(\"Violin plot of Fare per Trip by Type of card\", weight = \"semibold\" ,size=20, backgroundcolor= 'darkslateblue' ,color='whitesmoke')\n",
        "plot.fig.subplots_adjust(top = 0.88) # adjust position of title to not overlap with graph\n",
        "# plot.set_axis_labels(\"Total bill ($)\", \"Tip ($)\")\n",
        "\n",
        "# annotations\n",
        "\n",
        "yposlist =  bus_prices[bus_prices['Type of card'].isin([\"Senior\",\"Student\",\"Disabilities\"])].groupby(['Type of bus','Type of card'])['Fare per Trip'].median().tolist()\n",
        "xposlist = range(len(yposlist))\n",
        "# stringlist = ['n = 62','n = 19','n = 87','n = 76']\n",
        "print(yposlist)\n",
        "\n",
        "for ax in plot.axes.ravel():\n",
        "  for p in ax.patches:\n",
        "    ax.annotate(text=\"smt\",xy=(10, 10))\n",
        "\n",
        "# for i in range(len(yposlist)):\n",
        "#     plot.annotate(xposlist[i], yposlist[i], yposlist[i])\n"
      ],
      "metadata": {
        "id": "XLVYOI4ImW1t"
      },
      "execution_count": null,
      "outputs": []
    },
    {
      "cell_type": "code",
      "source": [
        "# annotations\n",
        "\n",
        "yposlist =  bus_prices[bus_prices['Type of card'].isin([\"Senior\",\"Student\",\"Disabilities\"])].groupby(['Type of bus','Type of card'])['Fare per Trip'].median().tolist()\n",
        "xposlist = range(len(yposlist))\n",
        "# stringlist = ['n = 62','n = 19','n = 87','n = 76']\n",
        "print(yposlist)\n",
        "\n",
        "for i in range(len(yposlist)):\n",
        "    ax.text(xposlist[i], yposlist[i], yposlist[i])"
      ],
      "metadata": {
        "id": "kR784QE8ueXm"
      },
      "execution_count": null,
      "outputs": []
    },
    {
      "cell_type": "markdown",
      "source": [
        "Does express of trunk buses cost more?\n",
        "ADD Average line for both plots to compare\n",
        "Add annotations"
      ],
      "metadata": {
        "id": "W_xOF-4i7UMG"
      }
    },
    {
      "cell_type": "code",
      "source": [
        "fig, ax = plt.subplots(figsize = (12, 7), tight_layout = True)\n",
        "\n",
        "#plot\n",
        "plot = sns.barplot(data = bus_prices, x = \"Type of bus\", y = \"Fare per Trip\", hue=\"Type of card\")\n",
        "\n",
        "# Customizations\n",
        "ax.set_title(\"Mean Fare per Trip by Express type bus and Trunk type bus\", loc = \"left\",weight = \"semibold\", fontsize = 16)\n",
        "\n",
        "#Annotations\n",
        "for p in plot.patches:\n",
        "    plot.annotate(format(p.get_height(), '.1f'), \n",
        "                   (p.get_x() + p.get_width() / 2., p.get_height() + 6), \n",
        "                   ha = 'center', va = 'center', \n",
        "                   xytext = (0, 10), \n",
        "                   textcoords = 'offset points')"
      ],
      "metadata": {
        "id": "xasncESq7TH1"
      },
      "execution_count": null,
      "outputs": []
    },
    {
      "cell_type": "markdown",
      "source": [
        "We can see that a large proportion of the price of fairs lie "
      ],
      "metadata": {
        "id": "RSqohCM1q12x"
      }
    },
    {
      "cell_type": "markdown",
      "source": [
        "### Rename column features of mrt_prices to match bus_prices for merging\n",
        "\n",
        "add new column ```Type of transport``` to both Bus and MRT datasets"
      ],
      "metadata": {
        "id": "T6ZBLQBtCy43"
      }
    },
    {
      "cell_type": "code",
      "source": [
        "# from google.colab import files\n",
        "# bus_prices.to_csv('bus_fair_prices.csv') \n",
        "# files.download('bus_fair_prices.csv')\n",
        "# bus_prices\n",
        "mrt_prices.rename(columns= {\n",
        "    \"fare_per_ride\" : \"Fare per Trip\",\n",
        "    \"distance\" : \"Distance\",\n",
        "    \"distance_start\" : \"Distance Travelled\",\n",
        "    \"fare_type\" : \"Type of card\"\n",
        "\n",
        "}, inplace= True)\n",
        "mrt_prices['Type of card'].replace({'Single trip':'Cash'},inplace=True)\n",
        "mrt_prices['Type of transport'] = 'MRT'\n",
        "mrt_prices.head()"
      ],
      "metadata": {
        "id": "BUTQjgOAC6M4"
      },
      "execution_count": null,
      "outputs": []
    },
    {
      "cell_type": "code",
      "source": [
        "from google.colab import files\n",
        "mrt_prices.to_csv('mrt_prices_v2.csv') \n",
        "files.download('mrt_prices_v2.csv')\n",
        "mrt_prices"
      ],
      "metadata": {
        "id": "KbLgIr1xmN4B"
      },
      "execution_count": null,
      "outputs": []
    },
    {
      "cell_type": "code",
      "source": [
        "bus_prices['Type of card'].unique()\n",
        "bus_prices['Type of transport'] = 'BUS'\n",
        "bus_prices.head()"
      ],
      "metadata": {
        "id": "SAWRP9A1aLzS"
      },
      "execution_count": null,
      "outputs": []
    },
    {
      "cell_type": "markdown",
      "source": [
        "## Merge Bus fare prices and MRT fare prices into one dataset"
      ],
      "metadata": {
        "id": "YNEjdOv-Z5XU"
      }
    },
    {
      "cell_type": "code",
      "source": [
        "bus_mrt_prices = pd.concat([bus_prices, mrt_prices], ignore_index= True)\n",
        "bus_mrt_prices"
      ],
      "metadata": {
        "id": "hRVF1rfCZ_uj"
      },
      "execution_count": null,
      "outputs": []
    },
    {
      "cell_type": "markdown",
      "source": [
        "## Export Cleaned Dataset of Bus and MRT prices"
      ],
      "metadata": {
        "id": "1vNHQvxVb5i0"
      }
    },
    {
      "cell_type": "code",
      "source": [
        "from google.colab import files\n",
        "bus_mrt_prices.to_csv('bus_mrt_prices_v2.csv') \n",
        "files.download('bus_mrt_prices_v2.csv')\n",
        "bus_mrt_prices"
      ],
      "metadata": {
        "id": "BLYPb454b9TT"
      },
      "execution_count": null,
      "outputs": []
    },
    {
      "cell_type": "markdown",
      "source": [
        "Objective 2:\n",
        "\n",
        "To find out transport system (MRT, bus or taxi) is the most utilized (ridership, length of journeys) in Singapore?"
      ],
      "metadata": {
        "id": "BCQqjbjJsPLq"
      }
    },
    {
      "cell_type": "markdown",
      "source": [
        "## Dataset 2:  Public Transport Utilisation - Average Daily Public Transport Ridership"
      ],
      "metadata": {
        "id": "cJtgnkhunjME"
      }
    },
    {
      "cell_type": "markdown",
      "source": [
        "## Load dataset"
      ],
      "metadata": {
        "id": "tJTvYBpFtPai"
      }
    },
    {
      "cell_type": "code",
      "source": [
        "ridership_with_dups = pd.read_csv('/content/public-transport-utilisation-average-public-transport-ridership.csv')\n",
        "ridership_with_dups.head()"
      ],
      "metadata": {
        "id": "VjchbfLytGYu"
      },
      "execution_count": null,
      "outputs": []
    },
    {
      "cell_type": "markdown",
      "source": [
        "### Check for duplicates"
      ],
      "metadata": {
        "id": "Xv0E6ipHtsw-"
      }
    },
    {
      "cell_type": "code",
      "source": [
        "print(f\"Shape before removal of dups: {ridership_with_dups.shape}\")\n",
        "ridership = ridership_with_dups.drop_duplicates()\n",
        "print(f\"Shape after removal of dups: {ridership.shape}\")"
      ],
      "metadata": {
        "id": "uE0ou28Ntv2j"
      },
      "execution_count": null,
      "outputs": []
    },
    {
      "cell_type": "code",
      "source": [
        "ridership.info()"
      ],
      "metadata": {
        "id": "P-bLP5Att-QB"
      },
      "execution_count": null,
      "outputs": []
    },
    {
      "cell_type": "markdown",
      "source": [
        "### Rename Columns for easier understanding"
      ],
      "metadata": {
        "id": "yiBFEXe8vOTz"
      }
    },
    {
      "cell_type": "code",
      "source": [
        "ridership.rename(columns= {\n",
        "    \"year\" : \"Year\",\n",
        "    \"type_of_public_transport\" : \"Type of Public Transport\",\n",
        "    \"average_ridership\" : \"Mean Daily Ridership\"\n",
        "}, inplace= True)"
      ],
      "metadata": {
        "id": "7Msp__SZvSkR"
      },
      "execution_count": null,
      "outputs": []
    },
    {
      "cell_type": "markdown",
      "source": [
        "### Check for Missing Values \n",
        "\n",
        "This is strange since we saw values of 0 in the column ```Mean Daily Ridership``` of the dataframe\n",
        "\n",
        "Lets follow up by checking how many zero values are in the column ```Mean Daily Ridership```"
      ],
      "metadata": {
        "id": "INkFil88vII0"
      }
    },
    {
      "cell_type": "code",
      "source": [
        "ridership.isna().sum()"
      ],
      "metadata": {
        "id": "hTJO34lPvdJY"
      },
      "execution_count": null,
      "outputs": []
    },
    {
      "cell_type": "code",
      "source": [
        "(ridership[\"Mean Daily Ridership\"] == 0).sum()"
      ],
      "metadata": {
        "id": "AHp40JB9w7HN"
      },
      "execution_count": null,
      "outputs": []
    },
    {
      "cell_type": "markdown",
      "source": [
        "There are 10 missing values in the data. What is the missing data?"
      ],
      "metadata": {
        "id": "SAPTQTVQxfRi"
      }
    },
    {
      "cell_type": "code",
      "source": [
        "ridership[ridership[\"Mean Daily Ridership\"] == 0]"
      ],
      "metadata": {
        "id": "Ruhs7jahxhvP"
      },
      "execution_count": null,
      "outputs": []
    },
    {
      "cell_type": "markdown",
      "source": [
        "Taxi Data and LRT Data.\n",
        "\n",
        "LRT data is missing as it only began operations in 1999.\n",
        "Taxi data before 2001 is missing as according to data.gov.sg, the method of calculation of taxi ridership was revised in 2003, but only data from 2001 and onwards could be updated using this new method.\n",
        "\n",
        "Furthermore, it seems like only data before the year 2000 has missing values.\n",
        "To make our analysis more accurate then, we will remove all null values since we are not really concerned with these \"outdated\" years with null values."
      ],
      "metadata": {
        "id": "_TpgVoK_ywSM"
      }
    },
    {
      "cell_type": "code",
      "source": [
        "print(\"Shape before removing na values:\", ridership.shape)\n",
        "ridership = ridership[ridership[\"Mean Daily Ridership\"] != 0]\n",
        "print(\"Shape after removing na values:\", ridership.shape)"
      ],
      "metadata": {
        "id": "cJocZCWWzhwP"
      },
      "execution_count": null,
      "outputs": []
    },
    {
      "cell_type": "markdown",
      "source": [
        "### Descriptive Analysis"
      ],
      "metadata": {
        "id": "RKGbIxDdt457"
      }
    },
    {
      "cell_type": "code",
      "source": [
        "ridership.describe()"
      ],
      "metadata": {
        "id": "eczTKcu2uYev"
      },
      "execution_count": null,
      "outputs": []
    },
    {
      "cell_type": "code",
      "source": [
        "ridership.pivot_table(values = \"Mean Daily Ridership\",index= \"Type of Public Transport\", aggfunc= [min, max, np.mean, np.median, np.std]) "
      ],
      "metadata": {
        "id": "tFE1XgjiuXo9"
      },
      "execution_count": null,
      "outputs": []
    },
    {
      "cell_type": "markdown",
      "source": [
        "### Checking for outliers"
      ],
      "metadata": {
        "id": "3HJU0EngLs21"
      }
    },
    {
      "cell_type": "code",
      "source": [
        "g =    sns.boxplot(y = 'Mean Daily Ridership',data =ridership , orient= \"h\")\n",
        "print(type(g))\n",
        "sns.despine(left = True)\n",
        "plt.title(f\"Box Plot of Mean Daily Ridership\", fontdict = {\n",
        "        \"weight\" : \"semibold\" })\n",
        "plt.show()"
      ],
      "metadata": {
        "id": "WJz9z5daMMir"
      },
      "execution_count": null,
      "outputs": []
    },
    {
      "cell_type": "markdown",
      "source": [
        "We see that there is no outliers for Mean Daily Ridership overall, However is that the case for each Type of Public Transport? "
      ],
      "metadata": {
        "id": "ZfCQomoTMncI"
      }
    },
    {
      "cell_type": "code",
      "source": [
        "# Plotting of graphs\n",
        "plot = sns.catplot(y = \"Mean Daily Ridership\", x = \"Type of Public Transport\", data = ridership, kind=\"box\", height = 6, showmeans = True, meanprops = {\n",
        "    \"marker\" : \"s\",\n",
        "    \"markeredgecolor\" : \"gray\",\n",
        "    \"markerfacecolor\" : \"black\"\n",
        "}) # produce a boxplot, with mean also shown\n",
        "plot.fig.suptitle(\"Distribution of Daily Ridership by Mode of Transport\", weight = \"semibold\" ,size=20, backgroundcolor= 'darkslateblue' ,color='whitesmoke')\n",
        "# plot.fig.supxlabel(weight = \"semibold\" ,size=17, backgroundcolor= 'darkslateblue' ,color='whitesmoke')\n",
        "\n",
        "print(type(plot))\n",
        "plot.fig.subplots_adjust(top = 0.9) # adjust position of title to not overlap with graph\n",
        "plot.ax.get_yaxis().get_major_formatter().set_scientific(False) # remove scientific notation for easier reading\n",
        "plt.show()"
      ],
      "metadata": {
        "id": "q4-nX_CgMmuQ"
      },
      "execution_count": null,
      "outputs": []
    },
    {
      "cell_type": "markdown",
      "source": [
        "Lets check the distribution of daily ridership"
      ],
      "metadata": {
        "id": "paoPbmTHiESa"
      }
    },
    {
      "cell_type": "code",
      "source": [
        "\n",
        "ax = sns.distplot(ridership['Mean Daily Ridership'], rug=True, rug_kws={\"color\": \"g\"},\n",
        "                  kde_kws={\"color\": \"k\", \"lw\": 3, \"label\": \"KDE\"},\n",
        "                  hist_kws={\"histtype\": \"step\", \"linewidth\": 3,\n",
        "                            \"alpha\": 1, \"color\": \"g\"})"
      ],
      "metadata": {
        "id": "yRKAEYpriKNY"
      },
      "execution_count": null,
      "outputs": []
    }
  ]
}